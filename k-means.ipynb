{
 "cells": [
  {
   "cell_type": "code",
   "execution_count": 1,
   "metadata": {},
   "outputs": [
    {
     "name": "stderr",
     "output_type": "stream",
     "text": [
      "/Users/jeremy.zhang/anaconda3/lib/python3.6/site-packages/h5py/__init__.py:36: FutureWarning: Conversion of the second argument of issubdtype from `float` to `np.floating` is deprecated. In future, it will be treated as `np.float64 == np.dtype(float).type`.\n",
      "  from ._conv import register_converters as _register_converters\n"
     ]
    }
   ],
   "source": [
    "import tensorflow as tf\n",
    "import numpy as np"
   ]
  },
  {
   "cell_type": "code",
   "execution_count": 2,
   "metadata": {},
   "outputs": [],
   "source": [
    "# tf.enable_eager_execution()"
   ]
  },
  {
   "cell_type": "code",
   "execution_count": 11,
   "metadata": {},
   "outputs": [
    {
     "data": {
      "text/plain": [
       "<tf.Tensor: id=21, shape=(2, 3), dtype=int32, numpy=\n",
       "array([[1, 1, 1],\n",
       "       [1, 2, 3]], dtype=int32)>"
      ]
     },
     "execution_count": 11,
     "metadata": {},
     "output_type": "execute_result"
    }
   ],
   "source": [
    "a = tf.constant([[1, 1, 1], [1, 2, 3]])\n",
    "a"
   ]
  },
  {
   "cell_type": "code",
   "execution_count": 13,
   "metadata": {},
   "outputs": [
    {
     "data": {
      "text/plain": [
       "<tf.Tensor: id=27, shape=(1, 2), dtype=int32, numpy=array([[2, 3]], dtype=int32)>"
      ]
     },
     "execution_count": 13,
     "metadata": {},
     "output_type": "execute_result"
    }
   ],
   "source": [
    "tf.slice(a, begin=[1, 1], size=[1, 2])  # begin is the (row, col) index size is how long to slice {-1 means all}"
   ]
  },
  {
   "cell_type": "code",
   "execution_count": 16,
   "metadata": {},
   "outputs": [
    {
     "data": {
      "text/plain": [
       "<tf.Tensor: id=33, shape=(2, 3), dtype=int32, numpy=\n",
       "array([[1, 2, 3],\n",
       "       [1, 1, 1]], dtype=int32)>"
      ]
     },
     "execution_count": 16,
     "metadata": {},
     "output_type": "execute_result"
    }
   ],
   "source": [
    "tf.random_shuffle(a)"
   ]
  },
  {
   "cell_type": "code",
   "execution_count": 26,
   "metadata": {},
   "outputs": [
    {
     "data": {
      "text/plain": [
       "<tf.Tensor: id=79, shape=(), dtype=int32, numpy=6>"
      ]
     },
     "execution_count": 26,
     "metadata": {},
     "output_type": "execute_result"
    }
   ],
   "source": [
    "x = tf.constant([[1, 1, 1], [1, 1, 1]]) # (2, 3)\n",
    "tf.reduce_sum(x) # 6"
   ]
  },
  {
   "cell_type": "code",
   "execution_count": 28,
   "metadata": {},
   "outputs": [
    {
     "data": {
      "text/plain": [
       "<tf.Tensor: id=82, shape=(3,), dtype=int32, numpy=array([2, 2, 2], dtype=int32)>"
      ]
     },
     "execution_count": 28,
     "metadata": {},
     "output_type": "execute_result"
    }
   ],
   "source": [
    "tf.reduce_sum(x, 0)  # [2, 2, 2]"
   ]
  },
  {
   "cell_type": "markdown",
   "metadata": {},
   "source": [
    "### Kmeans"
   ]
  },
  {
   "cell_type": "code",
   "execution_count": 3,
   "metadata": {},
   "outputs": [],
   "source": [
    "n_points = 100\n",
    "n_clusters = 3\n",
    "n_iter = 10"
   ]
  },
  {
   "cell_type": "markdown",
   "metadata": {},
   "source": [
    "#### randomly choose inital center"
   ]
  },
  {
   "cell_type": "code",
   "execution_count": 4,
   "metadata": {},
   "outputs": [
    {
     "name": "stdout",
     "output_type": "stream",
     "text": [
      "<tf.Variable 'Variable:0' shape=(3, 2) dtype=float64_ref>\n"
     ]
    }
   ],
   "source": [
    "points = tf.constant(np.random.uniform(0, 10, [n_points, 2]))\n",
    "centroids = tf.Variable(tf.slice(tf.random_shuffle(points), [0, 0], [n_clusters, 2]))\n",
    "\n",
    "print(centroids)"
   ]
  },
  {
   "cell_type": "code",
   "execution_count": 5,
   "metadata": {},
   "outputs": [
    {
     "name": "stdout",
     "output_type": "stream",
     "text": [
      "(1, 100, 2)\n",
      "(3, 1, 2)\n"
     ]
    }
   ],
   "source": [
    "points_expanded = tf.expand_dims(points, 0)\n",
    "print(points_expanded.shape)\n",
    "\n",
    "centroids_expanded = tf.expand_dims(centroids, 1)\n",
    "print(centroids_expanded.shape)"
   ]
  },
  {
   "cell_type": "markdown",
   "metadata": {},
   "source": [
    "#### calculate distance between points and centroid to determine assgnmnets"
   ]
  },
  {
   "cell_type": "code",
   "execution_count": 25,
   "metadata": {},
   "outputs": [
    {
     "name": "stdout",
     "output_type": "stream",
     "text": [
      "(3, 100, 2)\n"
     ]
    }
   ],
   "source": [
    "print(tf.subtract(points_expanded, centroids_expanded).shape)"
   ]
  },
  {
   "cell_type": "code",
   "execution_count": 6,
   "metadata": {},
   "outputs": [
    {
     "name": "stdout",
     "output_type": "stream",
     "text": [
      "WARNING:tensorflow:From <ipython-input-6-dd093f76b592>:2: arg_min (from tensorflow.python.ops.gen_math_ops) is deprecated and will be removed in a future version.\n",
      "Instructions for updating:\n",
      "Use `argmin` instead\n",
      "Tensor(\"strided_slice:0\", shape=(10,), dtype=int64)\n"
     ]
    }
   ],
   "source": [
    "distances = tf.reduce_sum(tf.square(tf.subtract(points_expanded, centroids_expanded)), 2)\n",
    "assignments = tf.arg_min(distances, 0)  # along 0 axis the smallest\n",
    "print(assignments[:10])"
   ]
  },
  {
   "cell_type": "code",
   "execution_count": 39,
   "metadata": {},
   "outputs": [
    {
     "data": {
      "text/plain": [
       "<tf.Tensor 'Assign_6:0' shape=(3, 2) dtype=float64_ref>"
      ]
     },
     "execution_count": 39,
     "metadata": {},
     "output_type": "execute_result"
    }
   ],
   "source": [
    "means = []\n",
    "for c in range(n_clusters):\n",
    "    cluster_points = tf.gather(points, tf.squeeze( tf.where(tf.equal(assignments, c)) ))\n",
    "    cent = tf.reduce_mean(cluster_points, axis=0)\n",
    "    means.append(cent)\n",
    "new_centroids = tf.squeeze(tf.stack(means))\n",
    "update_centoids = tf.assign(centroids, new_centroids)\n",
    "update_centoids"
   ]
  },
  {
   "cell_type": "markdown",
   "metadata": {},
   "source": [
    "#### Run"
   ]
  },
  {
   "cell_type": "code",
   "execution_count": 54,
   "metadata": {},
   "outputs": [
    {
     "name": "stdout",
     "output_type": "stream",
     "text": [
      "(1, 100, 2)\n",
      "(3, 1, 2)\n",
      "centroids\n",
      " [[8.16709214 7.10900729]\n",
      " [4.60083907 2.10579895]\n",
      " [3.0306128  7.2940947 ]]\n",
      "total time: 0.0902547836303711\n"
     ]
    }
   ],
   "source": [
    "import time\n",
    "st = time.time()\n",
    "\n",
    "points = tf.constant(np.random.uniform(0, 10, [n_points, 2]))\n",
    "centroids = tf.slice(tf.random_shuffle(points), [0, 0], [n_clusters, 2])\n",
    "\n",
    "points_expanded = tf.expand_dims(points, 0)\n",
    "print(points_expanded.shape)\n",
    "\n",
    "centroids_expanded = tf.expand_dims(centroids, 1)\n",
    "print(centroids_expanded.shape)\n",
    "\n",
    "distances = tf.reduce_sum(tf.square(tf.subtract(points_expanded, centroids_expanded)), 2)\n",
    "assignments = tf.arg_min(distances, 0)  # along 0 axis the smallest\n",
    "\n",
    "means = []\n",
    "for c in range(n_clusters):\n",
    "    cluster_points = tf.gather(points, tf.squeeze( tf.where(tf.equal(assignments, c)) ))\n",
    "    cent = tf.reduce_mean(cluster_points, axis=0)\n",
    "    means.append(cent)\n",
    "new_centroids = tf.squeeze(tf.stack(means))\n",
    "# update_centroids = tf.assign(centroids, new_centroids)\n",
    "centroids = new_centroids\n",
    "\n",
    "with tf.Session() as sess:\n",
    "    sess.run(tf.global_variables_initializer())\n",
    "    for step in range(100):\n",
    "        # [_, centroid_values, points_values, assignment_values] = sess.run([update_centroids, centroids, points, assignments])\n",
    "        assignments_values = sess.run(assignments)\n",
    "        \n",
    "print(\"centroids\" + \"\\n\", centroid_values)\n",
    "\n",
    "print(\"total time:\", time.time()-st)"
   ]
  },
  {
   "cell_type": "code",
   "execution_count": 55,
   "metadata": {},
   "outputs": [
    {
     "data": {
      "image/png": "[encoded data removed]",
      "text/plain": [
       "<Figure size 432x288 with 1 Axes>"
      ]
     },
     "metadata": {},
     "output_type": "display_data"
    }
   ],
   "source": [
    "%matplotlib inline\n",
    "import matplotlib.pyplot as plt\n",
    "\n",
    "plt.scatter(points_values[:, 0], points_values[:, 1], c=assignment_values, s=50, alpha=0.5)\n",
    "plt.plot(centroid_values[:, 0], centroid_values[:, 1], 'kx', markersize=15)\n",
    "plt.show()"
   ]
  },
  {
   "cell_type": "code",
   "execution_count": null,
   "metadata": {},
   "outputs": [],
   "source": []
  }
 ],
 "metadata": {
  "kernelspec": {
   "display_name": "Python 3",
   "language": "python",
   "name": "python3"
  },
  "language_info": {
   "codemirror_mode": {
    "name": "ipython",
    "version": 3
   },
   "file_extension": ".py",
   "mimetype": "text/x-python",
   "name": "python",
   "nbconvert_exporter": "python",
   "pygments_lexer": "ipython3",
   "version": "3.6.5"
  }
 },
 "nbformat": 4,
 "nbformat_minor": 2
}

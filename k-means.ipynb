{
 "cells": [
  {
   "cell_type": "code",
   "execution_count": 1,
   "metadata": {},
   "outputs": [
    {
     "name": "stderr",
     "output_type": "stream",
     "text": [
      "/Users/jeremy.zhang/anaconda3/lib/python3.6/site-packages/h5py/__init__.py:36: FutureWarning: Conversion of the second argument of issubdtype from `float` to `np.floating` is deprecated. In future, it will be treated as `np.float64 == np.dtype(float).type`.\n",
      "  from ._conv import register_converters as _register_converters\n"
     ]
    }
   ],
   "source": [
    "import tensorflow as tf\n",
    "import numpy as np"
   ]
  },
  {
   "cell_type": "code",
   "execution_count": 2,
   "metadata": {},
   "outputs": [],
   "source": [
    "# tf.enable_eager_execution()"
   ]
  },
  {
   "cell_type": "code",
   "execution_count": 11,
   "metadata": {},
   "outputs": [
    {
     "data": {
      "text/plain": [
       "<tf.Tensor: id=21, shape=(2, 3), dtype=int32, numpy=\n",
       "array([[1, 1, 1],\n",
       "       [1, 2, 3]], dtype=int32)>"
      ]
     },
     "execution_count": 11,
     "metadata": {},
     "output_type": "execute_result"
    }
   ],
   "source": [
    "a = tf.constant([[1, 1, 1], [1, 2, 3]])\n",
    "a"
   ]
  },
  {
   "cell_type": "code",
   "execution_count": 13,
   "metadata": {},
   "outputs": [
    {
     "data": {
      "text/plain": [
       "<tf.Tensor: id=27, shape=(1, 2), dtype=int32, numpy=array([[2, 3]], dtype=int32)>"
      ]
     },
     "execution_count": 13,
     "metadata": {},
     "output_type": "execute_result"
    }
   ],
   "source": [
    "tf.slice(a, begin=[1, 1], size=[1, 2])  # begin is the (row, col) index size is how long to slice {-1 means all}"
   ]
  },
  {
   "cell_type": "code",
   "execution_count": 16,
   "metadata": {},
   "outputs": [
    {
     "data": {
      "text/plain": [
       "<tf.Tensor: id=33, shape=(2, 3), dtype=int32, numpy=\n",
       "array([[1, 2, 3],\n",
       "       [1, 1, 1]], dtype=int32)>"
      ]
     },
     "execution_count": 16,
     "metadata": {},
     "output_type": "execute_result"
    }
   ],
   "source": [
    "tf.random_shuffle(a)"
   ]
  },
  {
   "cell_type": "code",
   "execution_count": 26,
   "metadata": {},
   "outputs": [
    {
     "data": {
      "text/plain": [
       "<tf.Tensor: id=79, shape=(), dtype=int32, numpy=6>"
      ]
     },
     "execution_count": 26,
     "metadata": {},
     "output_type": "execute_result"
    }
   ],
   "source": [
    "x = tf.constant([[1, 1, 1], [1, 1, 1]]) # (2, 3)\n",
    "tf.reduce_sum(x) # 6"
   ]
  },
  {
   "cell_type": "code",
   "execution_count": 28,
   "metadata": {},
   "outputs": [
    {
     "data": {
      "text/plain": [
       "<tf.Tensor: id=82, shape=(3,), dtype=int32, numpy=array([2, 2, 2], dtype=int32)>"
      ]
     },
     "execution_count": 28,
     "metadata": {},
     "output_type": "execute_result"
    }
   ],
   "source": [
    "tf.reduce_sum(x, 0)  # [2, 2, 2]"
   ]
  },
  {
   "cell_type": "markdown",
   "metadata": {},
   "source": [
    "### Kmeans"
   ]
  },
  {
   "cell_type": "code",
   "execution_count": 2,
   "metadata": {},
   "outputs": [],
   "source": [
    "n_points = 100\n",
    "n_clusters = 3\n",
    "n_iter = 10"
   ]
  },
  {
   "cell_type": "markdown",
   "metadata": {},
   "source": [
    "#### randomly choose inital center"
   ]
  },
  {
   "cell_type": "code",
   "execution_count": 4,
   "metadata": {},
   "outputs": [
    {
     "name": "stdout",
     "output_type": "stream",
     "text": [
      "<tf.Variable 'Variable:0' shape=(3, 2) dtype=float64_ref>\n"
     ]
    }
   ],
   "source": [
    "points = tf.constant(np.random.uniform(0, 10, [n_points, 2]))\n",
    "centroids = tf.Variable(tf.slice(tf.random_shuffle(points), [0, 0], [n_clusters, 2]))\n",
    "\n",
    "print(centroids)"
   ]
  },
  {
   "cell_type": "code",
   "execution_count": 5,
   "metadata": {},
   "outputs": [
    {
     "name": "stdout",
     "output_type": "stream",
     "text": [
      "(1, 100, 2)\n",
      "(3, 1, 2)\n"
     ]
    }
   ],
   "source": [
    "points_expanded = tf.expand_dims(points, 0)\n",
    "print(points_expanded.shape)\n",
    "\n",
    "centroids_expanded = tf.expand_dims(centroids, 1)\n",
    "print(centroids_expanded.shape)"
   ]
  },
  {
   "cell_type": "markdown",
   "metadata": {},
   "source": [
    "#### calculate distance between points and centroid to determine assgnmnets"
   ]
  },
  {
   "cell_type": "code",
   "execution_count": 25,
   "metadata": {},
   "outputs": [
    {
     "name": "stdout",
     "output_type": "stream",
     "text": [
      "(3, 100, 2)\n"
     ]
    }
   ],
   "source": [
    "print(tf.subtract(points_expanded, centroids_expanded).shape)"
   ]
  },
  {
   "cell_type": "code",
   "execution_count": 6,
   "metadata": {},
   "outputs": [
    {
     "name": "stdout",
     "output_type": "stream",
     "text": [
      "WARNING:tensorflow:From <ipython-input-6-dd093f76b592>:2: arg_min (from tensorflow.python.ops.gen_math_ops) is deprecated and will be removed in a future version.\n",
      "Instructions for updating:\n",
      "Use `argmin` instead\n",
      "Tensor(\"strided_slice:0\", shape=(10,), dtype=int64)\n"
     ]
    }
   ],
   "source": [
    "distances = tf.reduce_sum(tf.square(tf.subtract(points_expanded, centroids_expanded)), 2)\n",
    "assignments = tf.arg_min(distances, 0)  # along 0 axis the smallest\n",
    "print(assignments[:10])"
   ]
  },
  {
   "cell_type": "code",
   "execution_count": 39,
   "metadata": {},
   "outputs": [
    {
     "data": {
      "text/plain": [
       "<tf.Tensor 'Assign_6:0' shape=(3, 2) dtype=float64_ref>"
      ]
     },
     "execution_count": 39,
     "metadata": {},
     "output_type": "execute_result"
    }
   ],
   "source": [
    "means = []\n",
    "for c in range(n_clusters):\n",
    "    cluster_points = tf.gather(points, tf.squeeze( tf.where(tf.equal(assignments, c)) ))\n",
    "    cent = tf.reduce_mean(cluster_points, axis=0)\n",
    "    means.append(cent)\n",
    "new_centroids = tf.squeeze(tf.stack(means))\n",
    "update_centoids = tf.assign(centroids, new_centroids)\n",
    "update_centoids"
   ]
  },
  {
   "cell_type": "markdown",
   "metadata": {},
   "source": [
    "#### Run"
   ]
  },
  {
   "cell_type": "code",
   "execution_count": 12,
   "metadata": {
    "scrolled": true
   },
   "outputs": [
    {
     "name": "stdout",
     "output_type": "stream",
     "text": [
      "(1, 100, 2)\n",
      "(3, 1, 2)\n",
      "(3, 2)\n",
      "(3, 2)\n",
      "(3, 2)\n",
      "(3, 2)\n",
      "(3, 2)\n",
      "(3, 2)\n",
      "(3, 2)\n",
      "(3, 2)\n",
      "(3, 2)\n",
      "(3, 2)\n",
      "(3, 2)\n",
      "(3, 2)\n",
      "(3, 2)\n",
      "(3, 2)\n",
      "(3, 2)\n",
      "(3, 2)\n",
      "(3, 2)\n",
      "(3, 2)\n",
      "(3, 2)\n",
      "(3, 2)\n",
      "(3, 2)\n",
      "(3, 2)\n",
      "(3, 2)\n",
      "(3, 2)\n",
      "(3, 2)\n",
      "(3, 2)\n",
      "(3, 2)\n",
      "(3, 2)\n",
      "(3, 2)\n",
      "(3, 2)\n",
      "(3, 2)\n",
      "(3, 2)\n",
      "(3, 2)\n",
      "(3, 2)\n",
      "(3, 2)\n",
      "(3, 2)\n",
      "(3, 2)\n",
      "(3, 2)\n",
      "(3, 2)\n",
      "(3, 2)\n",
      "(3, 2)\n",
      "(3, 2)\n",
      "(3, 2)\n",
      "(3, 2)\n",
      "(3, 2)\n",
      "(3, 2)\n",
      "(3, 2)\n",
      "(3, 2)\n",
      "(3, 2)\n",
      "(3, 2)\n",
      "(3, 2)\n",
      "(3, 2)\n",
      "(3, 2)\n",
      "(3, 2)\n",
      "(3, 2)\n",
      "(3, 2)\n",
      "(3, 2)\n",
      "(3, 2)\n",
      "(3, 2)\n",
      "(3, 2)\n",
      "(3, 2)\n",
      "(3, 2)\n",
      "(3, 2)\n",
      "(3, 2)\n",
      "(3, 2)\n",
      "(3, 2)\n",
      "(3, 2)\n",
      "(3, 2)\n",
      "(3, 2)\n",
      "(3, 2)\n",
      "(3, 2)\n",
      "(3, 2)\n",
      "(3, 2)\n",
      "(3, 2)\n",
      "(3, 2)\n",
      "(3, 2)\n",
      "(3, 2)\n",
      "(3, 2)\n",
      "(3, 2)\n",
      "(3, 2)\n",
      "(3, 2)\n",
      "(3, 2)\n",
      "(3, 2)\n",
      "(3, 2)\n",
      "(3, 2)\n",
      "(3, 2)\n",
      "(3, 2)\n",
      "(3, 2)\n",
      "(3, 2)\n",
      "(3, 2)\n",
      "(3, 2)\n",
      "(3, 2)\n",
      "(3, 2)\n",
      "(3, 2)\n",
      "(3, 2)\n",
      "(3, 2)\n",
      "(3, 2)\n",
      "(3, 2)\n",
      "(3, 2)\n",
      "(3, 2)\n",
      "centroids\n",
      " [[3.05313258 1.29995508]\n",
      " [3.42005168 6.70839753]\n",
      " [7.96857934 3.95092454]]\n",
      "total time: 0.0994560718536377\n"
     ]
    }
   ],
   "source": [
    "import time\n",
    "st = time.time()\n",
    "\n",
    "points = tf.convert_to_tensor(np.random.uniform(0, 10, [n_points, 2]))\n",
    "centroids = tf.slice(tf.random_shuffle(points), [0, 0], [n_clusters, 2])\n",
    "\n",
    "points_expanded = tf.expand_dims(points, 0)\n",
    "print(points_expanded.shape)\n",
    "\n",
    "centroids_expanded = tf.expand_dims(centroids, 1)\n",
    "print(centroids_expanded.shape)\n",
    "\n",
    "distances = tf.reduce_sum(tf.square(tf.subtract(points_expanded, centroids_expanded)), 2)\n",
    "assignments = tf.argmin(distances, 0)  # along 0 axis the smallest\n",
    "\n",
    "means = []\n",
    "for c in range(n_clusters):\n",
    "    cluster_points = tf.gather(points, tf.squeeze( tf.where(tf.equal(assignments, c)) ))\n",
    "    cent = tf.reduce_mean(cluster_points, axis=0)\n",
    "    means.append(cent)\n",
    "new_centroids = tf.squeeze(tf.stack(means))\n",
    "# update_centroids = tf.assign(centroids, new_centroids)\n",
    "centroids = new_centroids\n",
    "\n",
    "with tf.Session() as sess:\n",
    "    # sess.run(tf.global_variables_initializer())\n",
    "    for step in range(100):\n",
    "        [centroid_values, points_values, assignment_values] = sess.run([centroids, points, assignments])\n",
    "       \n",
    "        # assignments_values = sess.run(assignments)\n",
    "        \n",
    "print(\"centroids\" + \"\\n\", centroid_values)\n",
    "\n",
    "print(\"total time:\", time.time()-st)"
   ]
  },
  {
   "cell_type": "code",
   "execution_count": 13,
   "metadata": {},
   "outputs": [
    {
     "data": {
      "image/png": "[encoded data removed]",
      "text/plain": [
       "<Figure size 432x288 with 1 Axes>"
      ]
     },
     "metadata": {},
     "output_type": "display_data"
    }
   ],
   "source": [
    "%matplotlib inline\n",
    "import matplotlib.pyplot as plt\n",
    "\n",
    "plt.scatter(points_values[:, 0], points_values[:, 1], c=assignment_values, s=50, alpha=0.5)\n",
    "plt.plot(centroid_values[:, 0], centroid_values[:, 1], 'kx', markersize=15)\n",
    "plt.show()"
   ]
  },
  {
   "cell_type": "code",
   "execution_count": 42,
   "metadata": {},
   "outputs": [
    {
     "data": {
      "text/plain": [
       "(90, 2)"
      ]
     },
     "execution_count": 42,
     "metadata": {},
     "output_type": "execute_result"
    }
   ],
   "source": [
    "fixed_points = np.concatenate([np.random.normal(5, 1, (30, 2)), np.random.normal(2, 1, (30, 2)), np.random.normal(0, 1, (30, 2))])\n",
    "fixed_points.shape"
   ]
  },
  {
   "cell_type": "code",
   "execution_count": 57,
   "metadata": {
    "scrolled": true
   },
   "outputs": [
    {
     "name": "stdout",
     "output_type": "stream",
     "text": [
      "[[-0.3309986  -0.22480539]\n",
      " [ 1.55203673  1.36257276]\n",
      " [ 4.32023342  5.09456457]]\n",
      "[[-0.10093549 -0.15256575]\n",
      " [ 1.6783027   1.71944081]\n",
      " [ 4.57786365  5.23454767]]\n",
      "[[ 0.05389322 -0.11249176]\n",
      " [ 1.74566265  1.91439879]\n",
      " [ 4.64482896  5.27807258]]\n",
      "[[ 0.09182189 -0.08611648]\n",
      " [ 1.7664163   1.95384389]\n",
      " [ 4.64482896  5.27807258]]\n",
      "[[ 0.13855104 -0.06251926]\n",
      " [ 1.77892865  1.99635406]\n",
      " [ 4.64482896  5.27807258]]\n",
      "[[ 0.13855104 -0.06251926]\n",
      " [ 1.77892865  1.99635406]\n",
      " [ 4.64482896  5.27807258]]\n",
      "[[ 0.13855104 -0.06251926]\n",
      " [ 1.77892865  1.99635406]\n",
      " [ 4.64482896  5.27807258]]\n",
      "[[ 0.13855104 -0.06251926]\n",
      " [ 1.77892865  1.99635406]\n",
      " [ 4.64482896  5.27807258]]\n",
      "[[ 0.13855104 -0.06251926]\n",
      " [ 1.77892865  1.99635406]\n",
      " [ 4.64482896  5.27807258]]\n",
      "[[ 0.13855104 -0.06251926]\n",
      " [ 1.77892865  1.99635406]\n",
      " [ 4.64482896  5.27807258]]\n",
      "[[ 0.13855104 -0.06251926]\n",
      " [ 1.77892865  1.99635406]\n",
      " [ 4.64482896  5.27807258]]\n",
      "[[ 0.13855104 -0.06251926]\n",
      " [ 1.77892865  1.99635406]\n",
      " [ 4.64482896  5.27807258]]\n",
      "[[ 0.13855104 -0.06251926]\n",
      " [ 1.77892865  1.99635406]\n",
      " [ 4.64482896  5.27807258]]\n",
      "[[ 0.13855104 -0.06251926]\n",
      " [ 1.77892865  1.99635406]\n",
      " [ 4.64482896  5.27807258]]\n",
      "[[ 0.13855104 -0.06251926]\n",
      " [ 1.77892865  1.99635406]\n",
      " [ 4.64482896  5.27807258]]\n",
      "[[ 0.13855104 -0.06251926]\n",
      " [ 1.77892865  1.99635406]\n",
      " [ 4.64482896  5.27807258]]\n",
      "[[ 0.13855104 -0.06251926]\n",
      " [ 1.77892865  1.99635406]\n",
      " [ 4.64482896  5.27807258]]\n",
      "[[ 0.13855104 -0.06251926]\n",
      " [ 1.77892865  1.99635406]\n",
      " [ 4.64482896  5.27807258]]\n",
      "[[ 0.13855104 -0.06251926]\n",
      " [ 1.77892865  1.99635406]\n",
      " [ 4.64482896  5.27807258]]\n",
      "[[ 0.13855104 -0.06251926]\n",
      " [ 1.77892865  1.99635406]\n",
      " [ 4.64482896  5.27807258]]\n",
      "centroids\n",
      " [[ 0.13855104 -0.06251926]\n",
      " [ 1.77892865  1.99635406]\n",
      " [ 4.64482896  5.27807258]]\n"
     ]
    }
   ],
   "source": [
    "# points_n = 100\n",
    "clusters_n = 3\n",
    "iteration_n = 20\n",
    "\n",
    "points = tf.convert_to_tensor(fixed_points)\n",
    "centroids = tf.Variable(tf.slice(tf.random_shuffle(points), [0, 0], [clusters_n, -1]))\n",
    "\n",
    "points_expanded = tf.expand_dims(points, 0)\n",
    "centroids_expanded = tf.expand_dims(centroids, 1)\n",
    "\n",
    "distances = tf.reduce_sum(tf.square(tf.subtract(points_expanded, centroids_expanded)), 2)\n",
    "assignments = tf.argmin(distances, 0)\n",
    "\n",
    "means = []\n",
    "for c in range(clusters_n):\n",
    "    means.append(tf.reduce_mean(\n",
    "      tf.gather(points, \n",
    "                tf.reshape(\n",
    "                  tf.where(\n",
    "                    tf.equal(assignments, c)\n",
    "                  ),[1,-1])\n",
    "               ),reduction_indices=[1]))\n",
    "\n",
    "new_centroids = tf.squeeze(tf.stack(means))\n",
    "\n",
    "update_centroids = tf.assign(centroids, new_centroids)\n",
    "\n",
    "init = tf.global_variables_initializer()\n",
    "\n",
    "with tf.Session() as sess:\n",
    "    sess.run(init)\n",
    "    for step in range(iteration_n):\n",
    "        [_, centroid_values, points_values, assignment_values] = sess.run([update_centroids, centroids, points, assignments])\n",
    "        print(centroid_values)\n",
    "\n",
    "print(\"centroids\" + \"\\n\", centroid_values)"
   ]
  },
  {
   "cell_type": "code",
   "execution_count": 58,
   "metadata": {},
   "outputs": [
    {
     "data": {
      "image/png": "[encoded data removed]",
      "text/plain": [
       "<Figure size 432x288 with 1 Axes>"
      ]
     },
     "metadata": {},
     "output_type": "display_data"
    }
   ],
   "source": [
    "%matplotlib inline\n",
    "import matplotlib.pyplot as plt\n",
    "\n",
    "plt.scatter(points_values[:, 0], points_values[:, 1], c=assignment_values, s=50, alpha=0.5)\n",
    "plt.plot(centroid_values[:, 0], centroid_values[:, 1], 'kx', markersize=15)\n",
    "plt.show()"
   ]
  },
  {
   "cell_type": "markdown",
   "metadata": {},
   "source": [
    "#### Kmeans in function pieces"
   ]
  },
  {
   "cell_type": "code",
   "execution_count": 77,
   "metadata": {},
   "outputs": [],
   "source": [
    "def gen_samples():\n",
    "    fixed_points = np.concatenate([np.random.normal(5, 1, (30, 2)), \\\n",
    "                                   np.random.normal(2, 1, (30, 2)), np.random.normal(0, 1, (30, 2))])\n",
    "    return tf.convert_to_tensor(fixed_points)\n",
    "\n",
    "def init_centroids(tf_points, n_clusters):\n",
    "    return tf.random_shuffle(tf_points)[:n_clusters, :]\n",
    "\n",
    "def update(tf_points, centroids, n_clusters):\n",
    "    points_expanded = tf.expand_dims(tf_points, 0)\n",
    "    centroids_expanded = tf.expand_dims(centroids, 1)\n",
    "\n",
    "    distances = tf.reduce_sum(tf.square(tf.subtract(points_expanded, centroids_expanded)), 2)\n",
    "    assignments = tf.argmin(distances, 0)\n",
    "\n",
    "    means = []\n",
    "    for c in range(n_clusters):\n",
    "        means.append(tf.reduce_mean(\n",
    "          tf.gather(points, \n",
    "                    tf.reshape(\n",
    "                      tf.where(\n",
    "                        tf.equal(assignments, c)\n",
    "                      ),[1,-1])\n",
    "                   ),reduction_indices=[1]))\n",
    "\n",
    "    new_centroids = tf.squeeze(tf.stack(means))\n",
    "\n",
    "    return new_centroids, assignments"
   ]
  },
  {
   "cell_type": "code",
   "execution_count": 96,
   "metadata": {},
   "outputs": [],
   "source": [
    "a = gen_samples()\n",
    "b = init_centroids(a, 3)\n",
    "\n",
    "for i in range(2):\n",
    "    # print(i)\n",
    "    b, seg = update(a, b, 3)\n",
    "with tf.Session() as sess:\n",
    "    # print(sess.run(a))\n",
    "    # print(sess.run(b))\n",
    "    # pts = sess.run(a)\n",
    "    [cent, seg] = sess.run([b, seg])"
   ]
  },
  {
   "cell_type": "code",
   "execution_count": 97,
   "metadata": {},
   "outputs": [
    {
     "data": {
      "image/png": "[encoded data removed]",
      "text/plain": [
       "<Figure size 432x288 with 1 Axes>"
      ]
     },
     "metadata": {},
     "output_type": "display_data"
    }
   ],
   "source": [
    "%matplotlib inline\n",
    "import matplotlib.pyplot as plt\n",
    "\n",
    "plt.scatter(pts[:, 0], pts[:, 1], c=seg, s=50, alpha=0.5)\n",
    "plt.plot(cent[:, 0], cent[:, 1], 'kx', markersize=15)\n",
    "plt.show()"
   ]
  },
  {
   "cell_type": "markdown",
   "metadata": {},
   "source": [
    "#### wrap in a class"
   ]
  },
  {
   "cell_type": "code",
   "execution_count": 108,
   "metadata": {},
   "outputs": [],
   "source": [
    "import tensorflow as tf\n",
    "import numpy as np\n",
    "\n",
    "\n",
    "class KMeans:\n",
    "    \"\"\"docstring for KMeans\"\"\"\n",
    "    def __init__(self, n_clusters, n_iter=100):\n",
    "        self.n_clusters = n_clusters\n",
    "        self.n_iter = n_iter\n",
    "        self.centroids = None\n",
    "        self.label = None\n",
    "\n",
    "    @staticmethod\n",
    "    def gen_samples():\n",
    "        fixed_points = np.concatenate([np.random.normal(5, 1, (30, 2)), \\\n",
    "                                       np.random.normal(2, 1, (30, 2)), np.random.normal(0, 1, (30, 2))])\n",
    "        return tf.convert_to_tensor(fixed_points)\n",
    "\n",
    "    def init_centroids(self, tf_points):\n",
    "        return tf.random_shuffle(tf_points)[:self.n_clusters, :]\n",
    "\n",
    "    def update(self, tf_points, centroids):\n",
    "        points_expanded = tf.expand_dims(tf_points, 0)\n",
    "        centroids_expanded = tf.expand_dims(centroids, 1)\n",
    "\n",
    "        distances = tf.reduce_sum(tf.square(tf.subtract(points_expanded, centroids_expanded)), 2)\n",
    "        assignments = tf.argmin(distances, 0)\n",
    "\n",
    "        means = []\n",
    "        for c in range(self.n_clusters):\n",
    "            means.append(tf.reduce_mean(\n",
    "                tf.gather(tf_points,\n",
    "                          tf.reshape(\n",
    "                              tf.where(\n",
    "                                  tf.equal(assignments, c)\n",
    "                              ), [1, -1])\n",
    "                          ), reduction_indices=[1]))\n",
    "\n",
    "        new_centroids = tf.squeeze(tf.stack(means))\n",
    "\n",
    "        return new_centroids, assignments\n",
    "\n",
    "    def fit(self, arr):\n",
    "        tf_points = tf.convert_to_tensor(arr)\n",
    "        self.centroids = self.init_centroids(tf_points)\n",
    "        # iteration\n",
    "        for i in range(self.n_iter):\n",
    "            self.centroids, self.label = self.update(tf_points, self.centroids)\n",
    "\n",
    "        # run tf\n",
    "        with tf.Session() as sess:\n",
    "            [self.centroids, self.label] = sess.run([self.centroids, self.label])"
   ]
  },
  {
   "cell_type": "code",
   "execution_count": 114,
   "metadata": {},
   "outputs": [],
   "source": [
    "kmeans = KMeans(n_clusters=3, n_iter=20)\n",
    "kmeans.fit(fixed_points)"
   ]
  },
  {
   "cell_type": "code",
   "execution_count": 115,
   "metadata": {},
   "outputs": [
    {
     "data": {
      "image/png": "[encoded data removed]",
      "text/plain": [
       "<Figure size 432x288 with 1 Axes>"
      ]
     },
     "metadata": {},
     "output_type": "display_data"
    }
   ],
   "source": [
    "%matplotlib inline\n",
    "import matplotlib.pyplot as plt\n",
    "\n",
    "cent = kmeans.centroids\n",
    "seg = kmeans.label\n",
    "pts = fixed_points\n",
    "\n",
    "plt.scatter(pts[:, 0], pts[:, 1], c=seg, s=50, alpha=0.5)\n",
    "plt.plot(cent[:, 0], cent[:, 1], 'kx', markersize=15)\n",
    "plt.show()"
   ]
  },
  {
   "cell_type": "code",
   "execution_count": 127,
   "metadata": {},
   "outputs": [
    {
     "data": {
      "text/plain": [
       "array([1, 0])"
      ]
     },
     "execution_count": 127,
     "metadata": {},
     "output_type": "execute_result"
    }
   ],
   "source": [
    "a = np.array([[1, 11, 3], [2, 1, 1]])\n",
    "a.argmax(axis=1)"
   ]
  },
  {
   "cell_type": "code",
   "execution_count": null,
   "metadata": {},
   "outputs": [],
   "source": []
  }
 ],
 "metadata": {
  "kernelspec": {
   "display_name": "Python 3",
   "language": "python",
   "name": "python3"
  },
  "language_info": {
   "codemirror_mode": {
    "name": "ipython",
    "version": 3
   },
   "file_extension": ".py",
   "mimetype": "text/x-python",
   "name": "python",
   "nbconvert_exporter": "python",
   "pygments_lexer": "ipython3",
   "version": "3.6.5"
  }
 },
 "nbformat": 4,
 "nbformat_minor": 2
}

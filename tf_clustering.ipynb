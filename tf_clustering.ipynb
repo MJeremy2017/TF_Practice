{
 "cells": [
  {
   "cell_type": "code",
   "execution_count": 1,
   "metadata": {
    "scrolled": false
   },
   "outputs": [
    {
     "name": "stderr",
     "output_type": "stream",
     "text": [
      "/Users/jeremy.zhang/anaconda3/lib/python3.6/importlib/_bootstrap.py:219: RuntimeWarning: compiletime version 3.5 of module 'tensorflow.python.framework.fast_tensor_util' does not match runtime version 3.6\n",
      "  return f(*args, **kwds)\n",
      "/Users/jeremy.zhang/anaconda3/lib/python3.6/site-packages/h5py/__init__.py:36: FutureWarning: Conversion of the second argument of issubdtype from `float` to `np.floating` is deprecated. In future, it will be treated as `np.float64 == np.dtype(float).type`.\n",
      "  from ._conv import register_converters as _register_converters\n"
     ]
    }
   ],
   "source": [
    "import numpy as np\n",
    "import tensorflow as tf"
   ]
  },
  {
   "cell_type": "code",
   "execution_count": 2,
   "metadata": {},
   "outputs": [],
   "source": [
    "tf.enable_eager_execution()"
   ]
  },
  {
   "cell_type": "code",
   "execution_count": 3,
   "metadata": {},
   "outputs": [
    {
     "data": {
      "text/plain": [
       "'1.10.1'"
      ]
     },
     "execution_count": 3,
     "metadata": {},
     "output_type": "execute_result"
    }
   ],
   "source": [
    "tf.__version__"
   ]
  },
  {
   "cell_type": "code",
   "execution_count": 4,
   "metadata": {},
   "outputs": [],
   "source": [
    "points = tf.random_normal([100])"
   ]
  },
  {
   "cell_type": "code",
   "execution_count": 8,
   "metadata": {},
   "outputs": [
    {
     "data": {
      "text/plain": [
       "<tf.Tensor: id=6, shape=(100,), dtype=float32, numpy=\n",
       "array([-2.6373684 ,  0.68251127, -0.63200223,  0.15978476,  0.8975377 ,\n",
       "        0.5704441 , -0.10744245, -0.412299  , -0.11914694,  1.6319933 ,\n",
       "       -0.5060321 ,  0.9759271 ,  0.27677086,  0.58321613,  0.5145135 ,\n",
       "        1.9828728 ,  2.3749485 ,  0.34434387,  0.8598209 ,  0.4907976 ,\n",
       "        1.293161  ,  0.14451589,  0.43540916, -0.99616057, -0.07271417,\n",
       "       -0.5352724 ,  0.1574582 ,  0.3475846 ,  1.1604266 , -1.1990631 ,\n",
       "       -0.6547631 , -2.8029656 , -0.18988948, -0.85334736, -0.54024017,\n",
       "        0.19599965, -0.76379377,  0.42538303, -0.25873882,  1.7287139 ,\n",
       "        0.44178054,  1.1487643 , -1.5717676 ,  0.24684285, -1.6064228 ,\n",
       "       -0.32840744,  1.6060942 ,  1.4377952 , -0.7040763 , -0.8967659 ,\n",
       "       -0.44592848,  0.6165078 ,  1.0207105 , -1.6279761 ,  0.26737022,\n",
       "       -0.12546167, -1.5921247 , -0.06731059, -0.8801808 ,  0.664726  ,\n",
       "        1.6632204 , -0.35664764,  0.05954761,  0.40504873,  0.5308658 ,\n",
       "       -0.8209353 ,  0.28511247,  1.4980817 , -2.1176121 , -0.577588  ,\n",
       "       -0.349964  , -0.46180975, -0.23468164, -1.112431  ,  0.3216072 ,\n",
       "       -0.8569738 ,  1.4020424 ,  2.0823305 ,  0.7421834 ,  0.31498706,\n",
       "       -0.7780189 ,  2.038852  ,  1.2683711 ,  1.9345119 ,  0.75415504,\n",
       "       -0.18707848,  1.3838059 , -1.7407662 ,  1.2171662 ,  0.44601414,\n",
       "       -0.79807895,  1.3917114 , -1.1255262 ,  0.8565485 , -0.24064   ,\n",
       "        1.0247946 ,  0.67783827, -1.5840845 ,  0.06333417,  1.0552045 ],\n",
       "      dtype=float32)>"
      ]
     },
     "execution_count": 8,
     "metadata": {},
     "output_type": "execute_result"
    }
   ],
   "source": [
    "points"
   ]
  },
  {
   "cell_type": "markdown",
   "metadata": {},
   "source": [
    "### K-Means clustering example"
   ]
  },
  {
   "cell_type": "code",
   "execution_count": 9,
   "metadata": {},
   "outputs": [],
   "source": [
    "num_points = 100\n",
    "dimensions = 2\n",
    "points = np.random.uniform(0, 1000, [num_points, dimensions])"
   ]
  },
  {
   "cell_type": "code",
   "execution_count": 10,
   "metadata": {},
   "outputs": [
    {
     "data": {
      "text/plain": [
       "(100, 2)"
      ]
     },
     "execution_count": 10,
     "metadata": {},
     "output_type": "execute_result"
    }
   ],
   "source": [
    "points.shape"
   ]
  },
  {
   "cell_type": "code",
   "execution_count": 11,
   "metadata": {},
   "outputs": [],
   "source": [
    "def input_fn():\n",
    "    return tf.train.limit_epochs(tf.convert_to_tensor(points, dtype=tf.float32), num_epochs=1)"
   ]
  },
  {
   "cell_type": "code",
   "execution_count": 12,
   "metadata": {},
   "outputs": [
    {
     "name": "stdout",
     "output_type": "stream",
     "text": [
      "INFO:tensorflow:Using default config.\n",
      "WARNING:tensorflow:Using temporary folder as model directory: /var/folders/hr/v0bnx1zn69v4_7dmyfd2n4gh0000gn/T/tmp1bp7q1yf\n",
      "INFO:tensorflow:Using config: {'_model_dir': '/var/folders/hr/v0bnx1zn69v4_7dmyfd2n4gh0000gn/T/tmp1bp7q1yf', '_tf_random_seed': None, '_save_summary_steps': 100, '_save_checkpoints_steps': None, '_save_checkpoints_secs': 600, '_session_config': None, '_keep_checkpoint_max': 5, '_keep_checkpoint_every_n_hours': 10000, '_log_step_count_steps': 100, '_train_distribute': None, '_device_fn': None, '_service': None, '_cluster_spec': <tensorflow.python.training.server_lib.ClusterSpec object at 0x1c25899940>, '_task_type': 'worker', '_task_id': 0, '_global_id_in_cluster': 0, '_master': '', '_evaluation_master': '', '_is_chief': True, '_num_ps_replicas': 0, '_num_worker_replicas': 1}\n"
     ]
    }
   ],
   "source": [
    "num_clusters = 5\n",
    "kmeans = tf.contrib.factorization.KMeansClustering(num_clusters=num_clusters, use_mini_batch=False)"
   ]
  },
  {
   "cell_type": "code",
   "execution_count": 13,
   "metadata": {},
   "outputs": [
    {
     "name": "stdout",
     "output_type": "stream",
     "text": [
      "INFO:tensorflow:Calling model_fn.\n",
      "INFO:tensorflow:Done calling model_fn.\n",
      "INFO:tensorflow:Create CheckpointSaverHook.\n",
      "INFO:tensorflow:Graph was finalized.\n",
      "INFO:tensorflow:Running local_init_op.\n",
      "INFO:tensorflow:Done running local_init_op.\n",
      "INFO:tensorflow:Saving checkpoints for 0 into /var/folders/hr/v0bnx1zn69v4_7dmyfd2n4gh0000gn/T/tmp1bp7q1yf/model.ckpt.\n",
      "INFO:tensorflow:Saving checkpoints for 1 into /var/folders/hr/v0bnx1zn69v4_7dmyfd2n4gh0000gn/T/tmp1bp7q1yf/model.ckpt.\n",
      "INFO:tensorflow:Loss for final step: None.\n",
      "INFO:tensorflow:Calling model_fn.\n",
      "INFO:tensorflow:Done calling model_fn.\n",
      "INFO:tensorflow:Starting evaluation at 2019-02-25-08:27:54\n",
      "INFO:tensorflow:Graph was finalized.\n",
      "INFO:tensorflow:Restoring parameters from /var/folders/hr/v0bnx1zn69v4_7dmyfd2n4gh0000gn/T/tmp1bp7q1yf/model.ckpt-1\n",
      "INFO:tensorflow:Running local_init_op.\n",
      "INFO:tensorflow:Done running local_init_op.\n",
      "INFO:tensorflow:Evaluation [1/1]\n",
      "INFO:tensorflow:Finished evaluation at 2019-02-25-08:27:55\n",
      "INFO:tensorflow:Saving dict for global step 1: global_step = 1, loss = 7039806.0, score = 7039806.0\n",
      "INFO:tensorflow:Saving 'checkpoint_path' summary for global step 1: /var/folders/hr/v0bnx1zn69v4_7dmyfd2n4gh0000gn/T/tmp1bp7q1yf/model.ckpt-1\n",
      "score: 7039806.0\n",
      "INFO:tensorflow:Calling model_fn.\n",
      "INFO:tensorflow:Done calling model_fn.\n",
      "INFO:tensorflow:Create CheckpointSaverHook.\n",
      "INFO:tensorflow:Graph was finalized.\n",
      "INFO:tensorflow:Restoring parameters from /var/folders/hr/v0bnx1zn69v4_7dmyfd2n4gh0000gn/T/tmp1bp7q1yf/model.ckpt-1\n",
      "INFO:tensorflow:Running local_init_op.\n",
      "INFO:tensorflow:Done running local_init_op.\n",
      "INFO:tensorflow:Saving checkpoints for 1 into /var/folders/hr/v0bnx1zn69v4_7dmyfd2n4gh0000gn/T/tmp1bp7q1yf/model.ckpt.\n",
      "INFO:tensorflow:loss = 7039806.0, step = 2\n",
      "INFO:tensorflow:Saving checkpoints for 3 into /var/folders/hr/v0bnx1zn69v4_7dmyfd2n4gh0000gn/T/tmp1bp7q1yf/model.ckpt.\n",
      "INFO:tensorflow:Loss for final step: 7039806.0.\n",
      "delta: [[ 52.617065 -89.09833 ]\n",
      " [117.73137   54.19226 ]\n",
      " [ 48.0766   -15.584381]\n",
      " [ 51.575302  58.408264]\n",
      " [153.03354   55.19777 ]]\n",
      "INFO:tensorflow:Calling model_fn.\n",
      "INFO:tensorflow:Done calling model_fn.\n",
      "INFO:tensorflow:Starting evaluation at 2019-02-25-08:27:55\n",
      "INFO:tensorflow:Graph was finalized.\n",
      "INFO:tensorflow:Restoring parameters from /var/folders/hr/v0bnx1zn69v4_7dmyfd2n4gh0000gn/T/tmp1bp7q1yf/model.ckpt-3\n",
      "INFO:tensorflow:Running local_init_op.\n",
      "INFO:tensorflow:Done running local_init_op.\n",
      "INFO:tensorflow:Evaluation [1/1]\n",
      "INFO:tensorflow:Finished evaluation at 2019-02-25-08:27:56\n",
      "INFO:tensorflow:Saving dict for global step 3: global_step = 3, loss = 5204119.0, score = 5204119.0\n",
      "INFO:tensorflow:Saving 'checkpoint_path' summary for global step 3: /var/folders/hr/v0bnx1zn69v4_7dmyfd2n4gh0000gn/T/tmp1bp7q1yf/model.ckpt-3\n",
      "score: 5204119.0\n",
      "INFO:tensorflow:Calling model_fn.\n",
      "INFO:tensorflow:Done calling model_fn.\n",
      "INFO:tensorflow:Create CheckpointSaverHook.\n",
      "INFO:tensorflow:Graph was finalized.\n",
      "INFO:tensorflow:Restoring parameters from /var/folders/hr/v0bnx1zn69v4_7dmyfd2n4gh0000gn/T/tmp1bp7q1yf/model.ckpt-3\n",
      "INFO:tensorflow:Running local_init_op.\n",
      "INFO:tensorflow:Done running local_init_op.\n",
      "INFO:tensorflow:Saving checkpoints for 3 into /var/folders/hr/v0bnx1zn69v4_7dmyfd2n4gh0000gn/T/tmp1bp7q1yf/model.ckpt.\n",
      "INFO:tensorflow:loss = 5204119.0, step = 4\n",
      "INFO:tensorflow:Saving checkpoints for 5 into /var/folders/hr/v0bnx1zn69v4_7dmyfd2n4gh0000gn/T/tmp1bp7q1yf/model.ckpt.\n",
      "INFO:tensorflow:Loss for final step: 5204119.0.\n",
      "delta: [[ 16.10669     7.779785 ]\n",
      " [ 40.969437   -2.4102173]\n",
      " [-40.744354  -81.07773  ]\n",
      " [  0.          0.       ]\n",
      " [ 97.2735     27.233124 ]]\n",
      "INFO:tensorflow:Calling model_fn.\n",
      "INFO:tensorflow:Done calling model_fn.\n",
      "INFO:tensorflow:Starting evaluation at 2019-02-25-08:27:56\n",
      "INFO:tensorflow:Graph was finalized.\n",
      "INFO:tensorflow:Restoring parameters from /var/folders/hr/v0bnx1zn69v4_7dmyfd2n4gh0000gn/T/tmp1bp7q1yf/model.ckpt-5\n",
      "INFO:tensorflow:Running local_init_op.\n",
      "INFO:tensorflow:Done running local_init_op.\n",
      "INFO:tensorflow:Evaluation [1/1]\n",
      "INFO:tensorflow:Finished evaluation at 2019-02-25-08:27:56\n",
      "INFO:tensorflow:Saving dict for global step 5: global_step = 5, loss = 4328519.0, score = 4328519.0\n",
      "INFO:tensorflow:Saving 'checkpoint_path' summary for global step 5: /var/folders/hr/v0bnx1zn69v4_7dmyfd2n4gh0000gn/T/tmp1bp7q1yf/model.ckpt-5\n",
      "score: 4328519.0\n",
      "INFO:tensorflow:Calling model_fn.\n",
      "INFO:tensorflow:Done calling model_fn.\n",
      "INFO:tensorflow:Create CheckpointSaverHook.\n",
      "INFO:tensorflow:Graph was finalized.\n",
      "INFO:tensorflow:Restoring parameters from /var/folders/hr/v0bnx1zn69v4_7dmyfd2n4gh0000gn/T/tmp1bp7q1yf/model.ckpt-5\n",
      "INFO:tensorflow:Running local_init_op.\n",
      "INFO:tensorflow:Done running local_init_op.\n",
      "INFO:tensorflow:Saving checkpoints for 5 into /var/folders/hr/v0bnx1zn69v4_7dmyfd2n4gh0000gn/T/tmp1bp7q1yf/model.ckpt.\n",
      "INFO:tensorflow:loss = 4328519.0, step = 6\n",
      "INFO:tensorflow:Saving checkpoints for 7 into /var/folders/hr/v0bnx1zn69v4_7dmyfd2n4gh0000gn/T/tmp1bp7q1yf/model.ckpt.\n",
      "INFO:tensorflow:Loss for final step: 4328519.0.\n",
      "delta: [[ -0.5442505  29.680481 ]\n",
      " [  0.          0.       ]\n",
      " [-19.119308  -66.25253  ]\n",
      " [ 29.764175  -28.430054 ]\n",
      " [ 67.83478    32.410004 ]]\n",
      "INFO:tensorflow:Calling model_fn.\n",
      "INFO:tensorflow:Done calling model_fn.\n",
      "INFO:tensorflow:Starting evaluation at 2019-02-25-08:27:57\n",
      "INFO:tensorflow:Graph was finalized.\n",
      "INFO:tensorflow:Restoring parameters from /var/folders/hr/v0bnx1zn69v4_7dmyfd2n4gh0000gn/T/tmp1bp7q1yf/model.ckpt-7\n",
      "INFO:tensorflow:Running local_init_op.\n",
      "INFO:tensorflow:Done running local_init_op.\n",
      "INFO:tensorflow:Evaluation [1/1]\n",
      "INFO:tensorflow:Finished evaluation at 2019-02-25-08:27:57\n",
      "INFO:tensorflow:Saving dict for global step 7: global_step = 7, loss = 3886702.8, score = 3886702.8\n",
      "INFO:tensorflow:Saving 'checkpoint_path' summary for global step 7: /var/folders/hr/v0bnx1zn69v4_7dmyfd2n4gh0000gn/T/tmp1bp7q1yf/model.ckpt-7\n",
      "score: 3886702.8\n",
      "INFO:tensorflow:Calling model_fn.\n",
      "INFO:tensorflow:Done calling model_fn.\n",
      "INFO:tensorflow:Create CheckpointSaverHook.\n",
      "INFO:tensorflow:Graph was finalized.\n",
      "INFO:tensorflow:Restoring parameters from /var/folders/hr/v0bnx1zn69v4_7dmyfd2n4gh0000gn/T/tmp1bp7q1yf/model.ckpt-7\n",
      "INFO:tensorflow:Running local_init_op.\n",
      "INFO:tensorflow:Done running local_init_op.\n",
      "INFO:tensorflow:Saving checkpoints for 7 into /var/folders/hr/v0bnx1zn69v4_7dmyfd2n4gh0000gn/T/tmp1bp7q1yf/model.ckpt.\n",
      "INFO:tensorflow:loss = 3886702.8, step = 8\n",
      "INFO:tensorflow:Saving checkpoints for 9 into /var/folders/hr/v0bnx1zn69v4_7dmyfd2n4gh0000gn/T/tmp1bp7q1yf/model.ckpt.\n",
      "INFO:tensorflow:Loss for final step: 3886702.8.\n",
      "delta: [[  0.         0.      ]\n",
      " [  0.         0.      ]\n",
      " [-27.760803 -59.96454 ]\n",
      " [ 22.982117 -29.391602]\n",
      " [ 13.255859   4.785019]]\n",
      "INFO:tensorflow:Calling model_fn.\n",
      "INFO:tensorflow:Done calling model_fn.\n",
      "INFO:tensorflow:Starting evaluation at 2019-02-25-08:27:58\n",
      "INFO:tensorflow:Graph was finalized.\n",
      "INFO:tensorflow:Restoring parameters from /var/folders/hr/v0bnx1zn69v4_7dmyfd2n4gh0000gn/T/tmp1bp7q1yf/model.ckpt-9\n",
      "INFO:tensorflow:Running local_init_op.\n",
      "INFO:tensorflow:Done running local_init_op.\n",
      "INFO:tensorflow:Evaluation [1/1]\n",
      "INFO:tensorflow:Finished evaluation at 2019-02-25-08:27:58\n",
      "INFO:tensorflow:Saving dict for global step 9: global_step = 9, loss = 3736235.0, score = 3736235.0\n",
      "INFO:tensorflow:Saving 'checkpoint_path' summary for global step 9: /var/folders/hr/v0bnx1zn69v4_7dmyfd2n4gh0000gn/T/tmp1bp7q1yf/model.ckpt-9\n",
      "score: 3736235.0\n",
      "INFO:tensorflow:Calling model_fn.\n",
      "INFO:tensorflow:Done calling model_fn.\n",
      "INFO:tensorflow:Create CheckpointSaverHook.\n",
      "INFO:tensorflow:Graph was finalized.\n",
      "INFO:tensorflow:Restoring parameters from /var/folders/hr/v0bnx1zn69v4_7dmyfd2n4gh0000gn/T/tmp1bp7q1yf/model.ckpt-9\n",
      "INFO:tensorflow:Running local_init_op.\n",
      "INFO:tensorflow:Done running local_init_op.\n",
      "INFO:tensorflow:Saving checkpoints for 9 into /var/folders/hr/v0bnx1zn69v4_7dmyfd2n4gh0000gn/T/tmp1bp7q1yf/model.ckpt.\n",
      "INFO:tensorflow:loss = 3736235.0, step = 10\n",
      "INFO:tensorflow:Saving checkpoints for 11 into /var/folders/hr/v0bnx1zn69v4_7dmyfd2n4gh0000gn/T/tmp1bp7q1yf/model.ckpt.\n",
      "INFO:tensorflow:Loss for final step: 3736235.0.\n",
      "delta: [[  0.13995361   8.309265  ]\n",
      " [  0.           0.        ]\n",
      " [  3.5960388  -75.18107   ]\n",
      " [-21.861969   -24.429108  ]\n",
      " [  2.852478     9.244537  ]]\n",
      "INFO:tensorflow:Calling model_fn.\n"
     ]
    },
    {
     "name": "stdout",
     "output_type": "stream",
     "text": [
      "INFO:tensorflow:Done calling model_fn.\n",
      "INFO:tensorflow:Starting evaluation at 2019-02-25-08:27:59\n",
      "INFO:tensorflow:Graph was finalized.\n",
      "INFO:tensorflow:Restoring parameters from /var/folders/hr/v0bnx1zn69v4_7dmyfd2n4gh0000gn/T/tmp1bp7q1yf/model.ckpt-11\n",
      "INFO:tensorflow:Running local_init_op.\n",
      "INFO:tensorflow:Done running local_init_op.\n",
      "INFO:tensorflow:Evaluation [1/1]\n",
      "INFO:tensorflow:Finished evaluation at 2019-02-25-08:27:59\n",
      "INFO:tensorflow:Saving dict for global step 11: global_step = 11, loss = 3617961.8, score = 3617961.8\n",
      "INFO:tensorflow:Saving 'checkpoint_path' summary for global step 11: /var/folders/hr/v0bnx1zn69v4_7dmyfd2n4gh0000gn/T/tmp1bp7q1yf/model.ckpt-11\n",
      "score: 3617961.8\n",
      "INFO:tensorflow:Calling model_fn.\n",
      "INFO:tensorflow:Done calling model_fn.\n",
      "INFO:tensorflow:Create CheckpointSaverHook.\n",
      "INFO:tensorflow:Graph was finalized.\n",
      "INFO:tensorflow:Restoring parameters from /var/folders/hr/v0bnx1zn69v4_7dmyfd2n4gh0000gn/T/tmp1bp7q1yf/model.ckpt-11\n",
      "INFO:tensorflow:Running local_init_op.\n",
      "INFO:tensorflow:Done running local_init_op.\n",
      "INFO:tensorflow:Saving checkpoints for 11 into /var/folders/hr/v0bnx1zn69v4_7dmyfd2n4gh0000gn/T/tmp1bp7q1yf/model.ckpt.\n",
      "INFO:tensorflow:loss = 3617961.8, step = 12\n",
      "INFO:tensorflow:Saving checkpoints for 13 into /var/folders/hr/v0bnx1zn69v4_7dmyfd2n4gh0000gn/T/tmp1bp7q1yf/model.ckpt.\n",
      "INFO:tensorflow:Loss for final step: 3617961.8.\n",
      "delta: [[ -1.4452515   8.723267 ]\n",
      " [  0.          0.       ]\n",
      " [  8.433655  -25.429245 ]\n",
      " [ -7.4438324  -5.9754944]\n",
      " [  4.411804    8.711075 ]]\n",
      "INFO:tensorflow:Calling model_fn.\n",
      "INFO:tensorflow:Done calling model_fn.\n",
      "INFO:tensorflow:Starting evaluation at 2019-02-25-08:27:59\n",
      "INFO:tensorflow:Graph was finalized.\n",
      "INFO:tensorflow:Restoring parameters from /var/folders/hr/v0bnx1zn69v4_7dmyfd2n4gh0000gn/T/tmp1bp7q1yf/model.ckpt-13\n",
      "INFO:tensorflow:Running local_init_op.\n",
      "INFO:tensorflow:Done running local_init_op.\n",
      "INFO:tensorflow:Evaluation [1/1]\n",
      "INFO:tensorflow:Finished evaluation at 2019-02-25-08:28:00\n",
      "INFO:tensorflow:Saving dict for global step 13: global_step = 13, loss = 3583723.5, score = 3583723.5\n",
      "INFO:tensorflow:Saving 'checkpoint_path' summary for global step 13: /var/folders/hr/v0bnx1zn69v4_7dmyfd2n4gh0000gn/T/tmp1bp7q1yf/model.ckpt-13\n",
      "score: 3583723.5\n",
      "INFO:tensorflow:Calling model_fn.\n",
      "INFO:tensorflow:Done calling model_fn.\n",
      "INFO:tensorflow:Create CheckpointSaverHook.\n",
      "INFO:tensorflow:Graph was finalized.\n",
      "INFO:tensorflow:Restoring parameters from /var/folders/hr/v0bnx1zn69v4_7dmyfd2n4gh0000gn/T/tmp1bp7q1yf/model.ckpt-13\n",
      "INFO:tensorflow:Running local_init_op.\n",
      "INFO:tensorflow:Done running local_init_op.\n",
      "INFO:tensorflow:Saving checkpoints for 13 into /var/folders/hr/v0bnx1zn69v4_7dmyfd2n4gh0000gn/T/tmp1bp7q1yf/model.ckpt.\n",
      "INFO:tensorflow:loss = 3583723.5, step = 14\n",
      "INFO:tensorflow:Saving checkpoints for 15 into /var/folders/hr/v0bnx1zn69v4_7dmyfd2n4gh0000gn/T/tmp1bp7q1yf/model.ckpt.\n",
      "INFO:tensorflow:Loss for final step: 3583723.5.\n",
      "delta: [[  3.1948242  28.06073  ]\n",
      " [  0.          0.       ]\n",
      " [ 27.596466  -27.905884 ]\n",
      " [ -2.0104523  -8.388824 ]\n",
      " [ 13.204529   31.870728 ]]\n",
      "INFO:tensorflow:Calling model_fn.\n",
      "INFO:tensorflow:Done calling model_fn.\n",
      "INFO:tensorflow:Starting evaluation at 2019-02-25-08:28:00\n",
      "INFO:tensorflow:Graph was finalized.\n",
      "INFO:tensorflow:Restoring parameters from /var/folders/hr/v0bnx1zn69v4_7dmyfd2n4gh0000gn/T/tmp1bp7q1yf/model.ckpt-15\n",
      "INFO:tensorflow:Running local_init_op.\n",
      "INFO:tensorflow:Done running local_init_op.\n",
      "INFO:tensorflow:Evaluation [1/1]\n",
      "INFO:tensorflow:Finished evaluation at 2019-02-25-08:28:00\n",
      "INFO:tensorflow:Saving dict for global step 15: global_step = 15, loss = 3492706.0, score = 3492706.0\n",
      "INFO:tensorflow:Saving 'checkpoint_path' summary for global step 15: /var/folders/hr/v0bnx1zn69v4_7dmyfd2n4gh0000gn/T/tmp1bp7q1yf/model.ckpt-15\n",
      "score: 3492706.0\n",
      "INFO:tensorflow:Calling model_fn.\n",
      "INFO:tensorflow:Done calling model_fn.\n",
      "INFO:tensorflow:Create CheckpointSaverHook.\n",
      "INFO:tensorflow:Graph was finalized.\n",
      "INFO:tensorflow:Restoring parameters from /var/folders/hr/v0bnx1zn69v4_7dmyfd2n4gh0000gn/T/tmp1bp7q1yf/model.ckpt-15\n",
      "INFO:tensorflow:Running local_init_op.\n",
      "INFO:tensorflow:Done running local_init_op.\n",
      "INFO:tensorflow:Saving checkpoints for 15 into /var/folders/hr/v0bnx1zn69v4_7dmyfd2n4gh0000gn/T/tmp1bp7q1yf/model.ckpt.\n",
      "INFO:tensorflow:loss = 3492706.0, step = 16\n",
      "INFO:tensorflow:Saving checkpoints for 17 into /var/folders/hr/v0bnx1zn69v4_7dmyfd2n4gh0000gn/T/tmp1bp7q1yf/model.ckpt.\n",
      "INFO:tensorflow:Loss for final step: 3492706.0.\n",
      "delta: [[-1.814148  10.700623 ]\n",
      " [ 0.         0.       ]\n",
      " [ 0.         0.       ]\n",
      " [ 0.         0.       ]\n",
      " [ 3.5269775  7.1774445]]\n",
      "INFO:tensorflow:Calling model_fn.\n",
      "INFO:tensorflow:Done calling model_fn.\n",
      "INFO:tensorflow:Starting evaluation at 2019-02-25-08:28:01\n",
      "INFO:tensorflow:Graph was finalized.\n",
      "INFO:tensorflow:Restoring parameters from /var/folders/hr/v0bnx1zn69v4_7dmyfd2n4gh0000gn/T/tmp1bp7q1yf/model.ckpt-17\n",
      "INFO:tensorflow:Running local_init_op.\n",
      "INFO:tensorflow:Done running local_init_op.\n",
      "INFO:tensorflow:Evaluation [1/1]\n",
      "INFO:tensorflow:Finished evaluation at 2019-02-25-08:28:01\n",
      "INFO:tensorflow:Saving dict for global step 17: global_step = 17, loss = 3487907.0, score = 3487907.0\n",
      "INFO:tensorflow:Saving 'checkpoint_path' summary for global step 17: /var/folders/hr/v0bnx1zn69v4_7dmyfd2n4gh0000gn/T/tmp1bp7q1yf/model.ckpt-17\n",
      "score: 3487907.0\n",
      "INFO:tensorflow:Calling model_fn.\n",
      "INFO:tensorflow:Done calling model_fn.\n",
      "INFO:tensorflow:Create CheckpointSaverHook.\n",
      "INFO:tensorflow:Graph was finalized.\n",
      "INFO:tensorflow:Restoring parameters from /var/folders/hr/v0bnx1zn69v4_7dmyfd2n4gh0000gn/T/tmp1bp7q1yf/model.ckpt-17\n",
      "INFO:tensorflow:Running local_init_op.\n",
      "INFO:tensorflow:Done running local_init_op.\n",
      "INFO:tensorflow:Saving checkpoints for 17 into /var/folders/hr/v0bnx1zn69v4_7dmyfd2n4gh0000gn/T/tmp1bp7q1yf/model.ckpt.\n",
      "INFO:tensorflow:loss = 3487907.0, step = 18\n",
      "INFO:tensorflow:Saving checkpoints for 19 into /var/folders/hr/v0bnx1zn69v4_7dmyfd2n4gh0000gn/T/tmp1bp7q1yf/model.ckpt.\n",
      "INFO:tensorflow:Loss for final step: 3487907.0.\n",
      "delta: [[0. 0.]\n",
      " [0. 0.]\n",
      " [0. 0.]\n",
      " [0. 0.]\n",
      " [0. 0.]]\n",
      "INFO:tensorflow:Calling model_fn.\n",
      "INFO:tensorflow:Done calling model_fn.\n",
      "INFO:tensorflow:Starting evaluation at 2019-02-25-08:28:02\n",
      "INFO:tensorflow:Graph was finalized.\n",
      "INFO:tensorflow:Restoring parameters from /var/folders/hr/v0bnx1zn69v4_7dmyfd2n4gh0000gn/T/tmp1bp7q1yf/model.ckpt-19\n",
      "INFO:tensorflow:Running local_init_op.\n",
      "INFO:tensorflow:Done running local_init_op.\n",
      "INFO:tensorflow:Evaluation [1/1]\n",
      "INFO:tensorflow:Finished evaluation at 2019-02-25-08:28:02\n",
      "INFO:tensorflow:Saving dict for global step 19: global_step = 19, loss = 3487907.0, score = 3487907.0\n",
      "INFO:tensorflow:Saving 'checkpoint_path' summary for global step 19: /var/folders/hr/v0bnx1zn69v4_7dmyfd2n4gh0000gn/T/tmp1bp7q1yf/model.ckpt-19\n",
      "score: 3487907.0\n",
      "cluster centers: [[775.733   735.7093 ]\n",
      " [218.09155 873.0101 ]\n",
      " [189.76068  72.82661]\n",
      " [223.7042  497.55026]\n",
      " [724.1446  256.52307]]\n"
     ]
    }
   ],
   "source": [
    "# train\n",
    "num_iterations = 10\n",
    "previous_centers = None\n",
    "for _ in range(num_iterations):\n",
    "    kmeans.train(input_fn)\n",
    "    cluster_centers = kmeans.cluster_centers()\n",
    "    if previous_centers is not None:\n",
    "        print('delta:', cluster_centers - previous_centers)\n",
    "    previous_centers = cluster_centers\n",
    "    print('score:', kmeans.score(input_fn))\n",
    "print('cluster centers:', cluster_centers)"
   ]
  },
  {
   "cell_type": "code",
   "execution_count": 14,
   "metadata": {},
   "outputs": [
    {
     "name": "stdout",
     "output_type": "stream",
     "text": [
      "WARNING:tensorflow:Input graph does not use tf.data.Dataset or contain a QueueRunner. That means predict yields forever. This is probably a mistake.\n",
      "INFO:tensorflow:Calling model_fn.\n",
      "INFO:tensorflow:Done calling model_fn.\n",
      "INFO:tensorflow:Graph was finalized.\n",
      "INFO:tensorflow:Restoring parameters from /var/folders/hr/v0bnx1zn69v4_7dmyfd2n4gh0000gn/T/tmp1bp7q1yf/model.ckpt-19\n",
      "INFO:tensorflow:Running local_init_op.\n",
      "INFO:tensorflow:Done running local_init_op.\n"
     ]
    }
   ],
   "source": [
    "cluster_indices = list(kmeans.predict_cluster_index(input_fn))"
   ]
  },
  {
   "cell_type": "code",
   "execution_count": 15,
   "metadata": {},
   "outputs": [
    {
     "data": {
      "text/plain": [
       "array([0, 1, 2, 3, 4])"
      ]
     },
     "execution_count": 15,
     "metadata": {},
     "output_type": "execute_result"
    }
   ],
   "source": [
    "np.unique(cluster_indices)"
   ]
  },
  {
   "cell_type": "code",
   "execution_count": 33,
   "metadata": {},
   "outputs": [
    {
     "data": {
      "text/plain": [
       "array([[720.31586, 227.36775],\n",
       "       [216.61801, 805.15173],\n",
       "       [129.26576, 189.25955],\n",
       "       [316.92072, 409.86215],\n",
       "       [743.432  , 691.5111 ]], dtype=float32)"
      ]
     },
     "execution_count": 33,
     "metadata": {},
     "output_type": "execute_result"
    }
   ],
   "source": [
    "cluster_centers"
   ]
  },
  {
   "cell_type": "markdown",
   "metadata": {},
   "source": [
    "#### TF"
   ]
  },
  {
   "cell_type": "code",
   "execution_count": 34,
   "metadata": {},
   "outputs": [],
   "source": [
    "tf_points = tf.random_normal([100, 2])"
   ]
  },
  {
   "cell_type": "code",
   "execution_count": 39,
   "metadata": {},
   "outputs": [
    {
     "name": "stdout",
     "output_type": "stream",
     "text": [
      "INFO:tensorflow:Using default config.\n",
      "WARNING:tensorflow:Using temporary folder as model directory: /var/folders/hr/v0bnx1zn69v4_7dmyfd2n4gh0000gn/T/tmpx44gzjin\n",
      "INFO:tensorflow:Using config: {'_model_dir': '/var/folders/hr/v0bnx1zn69v4_7dmyfd2n4gh0000gn/T/tmpx44gzjin', '_tf_random_seed': None, '_save_summary_steps': 100, '_save_checkpoints_steps': None, '_save_checkpoints_secs': 600, '_session_config': None, '_keep_checkpoint_max': 5, '_keep_checkpoint_every_n_hours': 10000, '_log_step_count_steps': 100, '_train_distribute': None, '_device_fn': None, '_service': None, '_cluster_spec': <tensorflow.python.training.server_lib.ClusterSpec object at 0x1c2e9fe470>, '_task_type': 'worker', '_task_id': 0, '_global_id_in_cluster': 0, '_master': '', '_evaluation_master': '', '_is_chief': True, '_num_ps_replicas': 0, '_num_worker_replicas': 1}\n"
     ]
    }
   ],
   "source": [
    "num_clusters = 5\n",
    "kmeans = tf.contrib.factorization.KMeansClustering(num_clusters=num_clusters, use_mini_batch=False)"
   ]
  },
  {
   "cell_type": "code",
   "execution_count": 67,
   "metadata": {},
   "outputs": [],
   "source": [
    "def input():\n",
    "    return tf.train.limit_epochs(tf.convert_to_tensor(points, dtype=tf.float32), num_epochs=1)"
   ]
  },
  {
   "cell_type": "code",
   "execution_count": 68,
   "metadata": {},
   "outputs": [
    {
     "name": "stdout",
     "output_type": "stream",
     "text": [
      "INFO:tensorflow:Calling model_fn.\n",
      "INFO:tensorflow:Done calling model_fn.\n",
      "INFO:tensorflow:Create CheckpointSaverHook.\n",
      "INFO:tensorflow:Graph was finalized.\n",
      "INFO:tensorflow:Restoring parameters from /var/folders/hr/v0bnx1zn69v4_7dmyfd2n4gh0000gn/T/tmpx44gzjin/model.ckpt-3\n",
      "INFO:tensorflow:Running local_init_op.\n",
      "INFO:tensorflow:Done running local_init_op.\n",
      "INFO:tensorflow:Saving checkpoints for 3 into /var/folders/hr/v0bnx1zn69v4_7dmyfd2n4gh0000gn/T/tmpx44gzjin/model.ckpt.\n",
      "INFO:tensorflow:loss = 3859562.2, step = 4\n",
      "INFO:tensorflow:Saving checkpoints for 5 into /var/folders/hr/v0bnx1zn69v4_7dmyfd2n4gh0000gn/T/tmpx44gzjin/model.ckpt.\n",
      "INFO:tensorflow:Loss for final step: 3859562.2.\n"
     ]
    },
    {
     "data": {
      "text/plain": [
       "<tensorflow.contrib.factorization.python.ops.kmeans.KMeansClustering at 0x1c2e9fefd0>"
      ]
     },
     "execution_count": 68,
     "metadata": {},
     "output_type": "execute_result"
    }
   ],
   "source": [
    "kmeans.train(input)"
   ]
  },
  {
   "cell_type": "code",
   "execution_count": 65,
   "metadata": {},
   "outputs": [
    {
     "name": "stdout",
     "output_type": "stream",
     "text": [
      "[[811.1301  196.88359]\n",
      " [405.62537 716.32947]\n",
      " [615.97974 423.1539 ]]\n"
     ]
    }
   ],
   "source": [
    "with tf.Session():\n",
    "    a = tf.convert_to_tensor(points, dtype=tf.float32)\n",
    "    print(a.eval()[:3])"
   ]
  },
  {
   "cell_type": "code",
   "execution_count": null,
   "metadata": {},
   "outputs": [],
   "source": []
  }
 ],
 "metadata": {
  "kernelspec": {
   "display_name": "Python 3",
   "language": "python",
   "name": "python3"
  },
  "language_info": {
   "codemirror_mode": {
    "name": "ipython",
    "version": 3
   },
   "file_extension": ".py",
   "mimetype": "text/x-python",
   "name": "python",
   "nbconvert_exporter": "python",
   "pygments_lexer": "ipython3",
   "version": "3.6.5"
  }
 },
 "nbformat": 4,
 "nbformat_minor": 2
}

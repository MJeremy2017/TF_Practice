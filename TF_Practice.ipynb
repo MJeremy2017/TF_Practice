{
 "cells": [
  {
   "cell_type": "code",
   "execution_count": 1,
   "metadata": {},
   "outputs": [
    {
     "name": "stderr",
     "output_type": "stream",
     "text": [
      "/Users/jeremy.zhang/anaconda3/lib/python3.6/site-packages/h5py/__init__.py:36: FutureWarning: Conversion of the second argument of issubdtype from `float` to `np.floating` is deprecated. In future, it will be treated as `np.float64 == np.dtype(float).type`.\n",
      "  from ._conv import register_converters as _register_converters\n"
     ]
    }
   ],
   "source": [
    "import tensorflow as tf\n",
    "import numpy as np"
   ]
  },
  {
   "cell_type": "markdown",
   "metadata": {},
   "source": [
    "#### Sess"
   ]
  },
  {
   "cell_type": "code",
   "execution_count": 2,
   "metadata": {},
   "outputs": [],
   "source": [
    "def add(n):\n",
    "    r = tf.constant(0)\n",
    "    for i in range(n):\n",
    "        r = tf.add(r, 1)\n",
    "    return r"
   ]
  },
  {
   "cell_type": "code",
   "execution_count": 3,
   "metadata": {},
   "outputs": [
    {
     "name": "stdout",
     "output_type": "stream",
     "text": [
      "3\n"
     ]
    }
   ],
   "source": [
    "with tf.Session() as sess:\n",
    "    r = sess.run(add(tf.constant(3).eval()))\n",
    "    print(r)"
   ]
  },
  {
   "cell_type": "markdown",
   "metadata": {},
   "source": [
    "#### tf.convert_to_tensor"
   ]
  },
  {
   "cell_type": "code",
   "execution_count": 43,
   "metadata": {},
   "outputs": [
    {
     "name": "stdout",
     "output_type": "stream",
     "text": [
      "[[0.48647716 0.4162351  0.1291369  0.95566755]\n",
      " [0.21917876 0.535551   0.46342173 0.495829  ]]\n",
      " \n",
      "[[0.48647716 0.4162351  0.1291369  0.95566755]\n",
      " [0.21917876 0.535551   0.46342173 0.495829  ]]\n"
     ]
    }
   ],
   "source": [
    "arr = np.random.uniform(size=[2, 4])\n",
    "print(arr)\n",
    "\n",
    "arr_tensor = tf.convert_to_tensor(arr)\n",
    "\n",
    "with tf.Session() as sess:\n",
    "    print(\" \")\n",
    "    print(sess.run(arr_tensor))"
   ]
  },
  {
   "cell_type": "markdown",
   "metadata": {},
   "source": [
    "#### tf.where"
   ]
  },
  {
   "cell_type": "code",
   "execution_count": 79,
   "metadata": {},
   "outputs": [
    {
     "name": "stdout",
     "output_type": "stream",
     "text": [
      "[[1 1 1]\n",
      " [2 1 0]]\n",
      "----------\n",
      "[[0 0]\n",
      " [0 1]\n",
      " [0 2]\n",
      " [1 1]]\n"
     ]
    }
   ],
   "source": [
    "t = tf.constant([[1, 1, 1], [2, 1, 0]])\n",
    "\n",
    "r = tf.where(tf.equal(t, 1))\n",
    "\n",
    "with tf.Session() as sess:\n",
    "    print(sess.run(t))\n",
    "    print(\"----------\")\n",
    "    print(sess.run(r))"
   ]
  },
  {
   "cell_type": "markdown",
   "metadata": {},
   "source": [
    "#### tf.gather_nd"
   ]
  },
  {
   "cell_type": "code",
   "execution_count": 80,
   "metadata": {},
   "outputs": [
    {
     "name": "stdout",
     "output_type": "stream",
     "text": [
      "[[1 1 1]\n",
      " [2 1 0]]\n",
      "----------\n",
      "[1 1 1 1]\n"
     ]
    }
   ],
   "source": [
    "t = tf.constant([[1, 1, 1], [2, 1, 0]])\n",
    "\n",
    "r = tf.gather_nd(t, tf.where(tf.equal(t, 1)))\n",
    "\n",
    "with tf.Session() as sess:\n",
    "    print(sess.run(t))\n",
    "    print(\"----------\")\n",
    "    print(sess.run(r))"
   ]
  },
  {
   "cell_type": "markdown",
   "metadata": {},
   "source": [
    "#### tf.cond"
   ]
  },
  {
   "cell_type": "code",
   "execution_count": 3,
   "metadata": {},
   "outputs": [
    {
     "name": "stdout",
     "output_type": "stream",
     "text": [
      "3\n"
     ]
    }
   ],
   "source": [
    "t1 = tf.constant(1)\n",
    "t2 = tf.constant(2)\n",
    "\n",
    "def f1(): return tf.add(t1, t2)\n",
    "def f2(): return tf.subtract(t1, t2)\n",
    "\n",
    "res = tf.cond(tf.less(t1, t2), f1, f2)\n",
    "\n",
    "with tf.Session() as sess:\n",
    "    r = sess.run(res)\n",
    "    print(r)"
   ]
  },
  {
   "cell_type": "markdown",
   "metadata": {},
   "source": [
    "#### tf.while_loop"
   ]
  },
  {
   "cell_type": "code",
   "execution_count": 6,
   "metadata": {},
   "outputs": [
    {
     "name": "stdout",
     "output_type": "stream",
     "text": [
      "***\n",
      "[10, 10, 1024]\n"
     ]
    }
   ],
   "source": [
    "t1 = tf.constant(1)\n",
    "t2 = tf.constant(10)\n",
    "t3 = tf.constant(2)\n",
    "\n",
    "def cond(t1, t2, t3): \n",
    "    print(\"***\")\n",
    "    return tf.less(t1, t2)\n",
    "\n",
    "def body(t1, t2, t3):\n",
    "    t3 = tf.multiply(t3, 2)\n",
    "    return [tf.add(t1, 1), t2, t3]\n",
    "\n",
    "res = tf.while_loop(cond, body, [t1, t2, t3])\n",
    "\n",
    "with tf.Session() as sess:\n",
    "    print(sess.run(res))"
   ]
  },
  {
   "cell_type": "code",
   "execution_count": 22,
   "metadata": {},
   "outputs": [
    {
     "name": "stdout",
     "output_type": "stream",
     "text": [
      "[61.843594, 5]\n"
     ]
    }
   ],
   "source": [
    "fix_iters = tf.constant(5)\n",
    "t1 = tf.constant(1.2)\n",
    "i = tf.constant(0)\n",
    "\n",
    "def cond(t1, i, fix_iters):\n",
    "    return tf.less(i, fix_iters)\n",
    "    \n",
    "def body(t1, i, fix_iters):\n",
    "    t1 = tf.multiply(t1, 2.2)\n",
    "    return [t1, tf.add(i, 1), fix_iters]\n",
    "\n",
    "res = tf.while_loop(cond, body, [t1, i, fix_iters])\n",
    "\n",
    "with tf.Session() as sess:\n",
    "    print(sess.run(res)[0:2])"
   ]
  },
  {
   "cell_type": "markdown",
   "metadata": {},
   "source": [
    "#### cond & loop"
   ]
  },
  {
   "cell_type": "code",
   "execution_count": 26,
   "metadata": {},
   "outputs": [
    {
     "name": "stdout",
     "output_type": "stream",
     "text": [
      "[7, 3, 3]\n"
     ]
    }
   ],
   "source": [
    "def cond_loop(t1, t2, iters):\n",
    "    \n",
    "    def cond(t1, t2, i):\n",
    "        return tf.less(i, iters)\n",
    "    \n",
    "    def body(t1, t2, i):\n",
    "        def increment(t1, t2):\n",
    "            def f1(): return tf.add(t1, 1), tf.add(t2, 1)  # no parameters\n",
    "            return f1\n",
    "\n",
    "        def swap(t1, t2):\n",
    "            def f2(): return t2, t1\n",
    "            return f2\n",
    "        \n",
    "        t1, t2 = tf.cond(tf.less(i+1, iters), increment(t1, t2), swap(t1, t2))\n",
    "        \n",
    "        return [t1, t2, tf.add(i, 1)]\n",
    "    \n",
    "    return tf.while_loop(cond, body, [t1, t2, 0])\n",
    "\n",
    "t1 = tf.constant(1)\n",
    "t2 = tf.constant(5)\n",
    "iters = tf.constant(3)\n",
    "\n",
    "with tf.Session() as sess:\n",
    "    loop = cond_loop(t1, t2, iters)\n",
    "    print(sess.run(loop))"
   ]
  },
  {
   "cell_type": "code",
   "execution_count": 27,
   "metadata": {},
   "outputs": [
    {
     "name": "stdout",
     "output_type": "stream",
     "text": [
      "[7, 3, 3]\n"
     ]
    }
   ],
   "source": [
    "def cond_loop(t1, t2, iters):\n",
    "    \n",
    "    def cond(t1, t2, i):\n",
    "        return tf.less(i, iters)\n",
    "    \n",
    "    def body(t1, t2, i):\n",
    "        def increment(t1, t2):\n",
    "            return tf.add(t1, 1), tf.add(t2, 1)  # no parameters\n",
    "            \n",
    "        def swap(t1, t2):\n",
    "            return t2, t1\n",
    "            \n",
    "        t1, t2 = tf.cond(tf.less(i+1, iters), lambda: increment(t1, t2), lambda: swap(t1, t2))\n",
    "        \n",
    "        return [t1, t2, tf.add(i, 1)]\n",
    "    \n",
    "    return tf.while_loop(cond, body, [t1, t2, 0])\n",
    "\n",
    "t1 = tf.constant(1)\n",
    "t2 = tf.constant(5)\n",
    "iters = tf.constant(3)\n",
    "\n",
    "with tf.Session() as sess:\n",
    "    loop = cond_loop(t1, t2, iters)\n",
    "    print(sess.run(loop))"
   ]
  },
  {
   "cell_type": "markdown",
   "metadata": {},
   "source": [
    "#### tf.scan\n",
    "---\n",
    "**Scan on the list of tensors unpacked from elems on dimension 0.**\n",
    "\n",
    "The callable fn takes two tensors as arguments. The first argument is the accumulated value computed from the preceding invocation of fn. If initializer is None, elems must contain at least one element, and its first element is used as the initializer."
   ]
  },
  {
   "cell_type": "code",
   "execution_count": 31,
   "metadata": {},
   "outputs": [
    {
     "name": "stdout",
     "output_type": "stream",
     "text": [
      "[ 1  3  6 10]\n"
     ]
    }
   ],
   "source": [
    "def fn(a, b): return tf.add(a, b)\n",
    "\n",
    "elem = tf.constant([1, 2, 3, 4])\n",
    "res = tf.scan(fn, elem, initializer=tf.constant(0))\n",
    "\n",
    "with tf.Session() as sess:\n",
    "    print(sess.run(res))"
   ]
  },
  {
   "cell_type": "code",
   "execution_count": 39,
   "metadata": {},
   "outputs": [
    {
     "name": "stdout",
     "output_type": "stream",
     "text": [
      "[[1 1 2]\n",
      " [1 2 3]]\n",
      "-----\n",
      "[[1 1 2]\n",
      " [2 3 5]]\n"
     ]
    }
   ],
   "source": [
    "def fn(a, b): return tf.add(a, b)\n",
    "\n",
    "elem = tf.constant([[1, 1, 2], [1, 2, 3]])\n",
    "res = tf.scan(fn, elem, initializer=tf.constant([0, 0, 0]))\n",
    "\n",
    "with tf.Session() as sess:\n",
    "    print(elem.eval())\n",
    "    print(\"-----\")\n",
    "    print(sess.run(res))"
   ]
  },
  {
   "cell_type": "code",
   "execution_count": 36,
   "metadata": {},
   "outputs": [
    {
     "name": "stdout",
     "output_type": "stream",
     "text": [
      "[[1 1 2]\n",
      " [1 2 3]]\n",
      "-----\n",
      "[[1 1 2]\n",
      " [2 3 5]]\n"
     ]
    }
   ],
   "source": [
    "def fn(a, b): return tf.add(a, b)\n",
    "\n",
    "elem = tf.constant([[1, 1, 2], [1, 2, 3]])\n",
    "res = tf.scan(fn, elem, initializer=tf.constant(0))\n",
    "\n",
    "with tf.Session() as sess:\n",
    "    print(elem.eval())\n",
    "    print(\"-----\")\n",
    "    print(sess.run(res))"
   ]
  },
  {
   "cell_type": "markdown",
   "metadata": {},
   "source": [
    "#### tf.map_fn"
   ]
  },
  {
   "cell_type": "code",
   "execution_count": 45,
   "metadata": {},
   "outputs": [
    {
     "name": "stdout",
     "output_type": "stream",
     "text": [
      "[[1 1 2]\n",
      " [1 2 3]]\n",
      "----------\n",
      "[[2 2 4]\n",
      " [2 4 6]]\n"
     ]
    }
   ],
   "source": [
    "def fn(x): return 2*x\n",
    "\n",
    "elem = tf.constant([[1, 1, 2], [1, 2, 3]])\n",
    "res = tf.map_fn(fn, elem)\n",
    "\n",
    "l = elem.shape[1]+2\n",
    "\n",
    "with tf.Session() as sess:\n",
    "    print(elem.eval())\n",
    "    print(\"-\"*2*l)\n",
    "    print(sess.run(res))"
   ]
  },
  {
   "cell_type": "markdown",
   "metadata": {},
   "source": [
    "#### tf.case\n",
    "---\n",
    "The pred_fn_pairs parameter is a **dict or list of pairs of size N**. Each pair contains a boolean scalar tensor and a python callable that creates the tensors to be returned if the boolean evaluates to True. default is a callable generating a list of tensors.\n",
    "\n",
    "If `exclusive==True`, all predicates are evaluated.\n",
    "\n",
    "If `exclusive==False`, execution stops at the first predicate which evaluates to True."
   ]
  },
  {
   "cell_type": "code",
   "execution_count": 50,
   "metadata": {},
   "outputs": [
    {
     "name": "stdout",
     "output_type": "stream",
     "text": [
      "17\n"
     ]
    }
   ],
   "source": [
    "def f1(): return tf.constant(17)\n",
    "def f2(): return tf.constant(23)\n",
    "def f3(): return tf.constant(-1)\n",
    "\n",
    "x = tf.constant(12)\n",
    "y = tf.constant(20)\n",
    "\n",
    "r = tf.case({tf.less(x, y): f1, tf.greater(x, y): f2},\n",
    "         default=f3, exclusive=True)\n",
    "\n",
    "with tf.Session() as sess:\n",
    "    print(sess.run(r))"
   ]
  },
  {
   "cell_type": "code",
   "execution_count": 58,
   "metadata": {},
   "outputs": [
    {
     "name": "stdout",
     "output_type": "stream",
     "text": [
      "32\n"
     ]
    }
   ],
   "source": [
    "def f1(x, y): return tf.add(x, y)\n",
    "def f2(x, y): return tf.subtract(x, y)\n",
    "def f3(): return tf.constant(-1)\n",
    "\n",
    "x = tf.constant(12)\n",
    "y = tf.constant(20)\n",
    "\n",
    "r = tf.case({tf.less(x, y): lambda: f1(x, y), tf.greater(x, y): lambda: f2(x, y)}, default=f3, exclusive=True)\n",
    "# callable error\n",
    "with tf.Session() as sess:\n",
    "    print(sess.run(r))"
   ]
  },
  {
   "cell_type": "markdown",
   "metadata": {},
   "source": [
    "#### tf.math.logical"
   ]
  },
  {
   "cell_type": "code",
   "execution_count": 64,
   "metadata": {},
   "outputs": [
    {
     "name": "stdout",
     "output_type": "stream",
     "text": [
      "True\n",
      "False\n"
     ]
    }
   ],
   "source": [
    "r = tf.math.logical_and(tf.constant(True), tf.constant(True))\n",
    "r1 =  tf.math.logical_and(tf.constant(True), tf.constant(False))\n",
    "\n",
    "with tf.Session() as sess:\n",
    "    print(sess.run(r))\n",
    "    print(sess.run(r1))"
   ]
  },
  {
   "cell_type": "markdown",
   "metadata": {},
   "source": [
    "#### tf.tile"
   ]
  },
  {
   "cell_type": "code",
   "execution_count": 91,
   "metadata": {},
   "outputs": [
    {
     "name": "stdout",
     "output_type": "stream",
     "text": [
      "[3.2 3.2 3.2]\n"
     ]
    }
   ],
   "source": [
    "r = tf.tile([3.2], [3])\n",
    "\n",
    "with tf.Session() as sess:\n",
    "    print(sess.run(r))"
   ]
  },
  {
   "cell_type": "markdown",
   "metadata": {},
   "source": [
    "#### tf.scatter_update"
   ]
  },
  {
   "cell_type": "code",
   "execution_count": 61,
   "metadata": {},
   "outputs": [
    {
     "name": "stdout",
     "output_type": "stream",
     "text": [
      "[ 1 11  3 10  9  6  7 12]\n"
     ]
    }
   ],
   "source": [
    "ref = tf.Variable([1, 2, 3, 4, 5, 6, 7, 8])\n",
    "indices = tf.constant([[4], [3], [1] ,[7]])\n",
    "updates = tf.constant([9, 10, 11, 12])\n",
    "\n",
    "update = tf.scatter_update(ref, tf.squeeze(indices), updates)\n",
    "\n",
    "with tf.Session() as sess:\n",
    "    sess.run(tf.global_variables_initializer())  # initialize variable\n",
    "    print(sess.run(update))"
   ]
  },
  {
   "cell_type": "markdown",
   "metadata": {},
   "source": [
    "#### tf.scatter_nd_update"
   ]
  },
  {
   "cell_type": "code",
   "execution_count": 57,
   "metadata": {},
   "outputs": [
    {
     "name": "stdout",
     "output_type": "stream",
     "text": [
      "indices [4 1]\n",
      "[ 1 11  3 10  9  6  7 12]\n"
     ]
    }
   ],
   "source": [
    "ref = tf.Variable([1, 2, 3, 4, 5, 6, 7, 8])\n",
    "indices = tf.constant([[4], [3], [1] ,[7]])\n",
    "updates = tf.constant([9, 10, 11, 12])\n",
    "update = tf.scatter_nd_update(ref, indices, updates)\n",
    "\n",
    "with tf.Session() as sess:\n",
    "    print(\"indices\", sess.run(tf.shape(indices)))\n",
    "    sess.run(tf.global_variables_initializer())  # initialize variable\n",
    "    print(sess.run(update))"
   ]
  },
  {
   "cell_type": "code",
   "execution_count": 89,
   "metadata": {},
   "outputs": [
    {
     "name": "stdout",
     "output_type": "stream",
     "text": [
      "[[ 0.  0.  0.  0.  0.  0.]\n",
      " [ 0.  0.  0.  0.  0. 11.]\n",
      " [ 0.  0.  0.  0.  0.  0.]\n",
      " [10.  0.  0.  0.  0.  0.]\n",
      " [ 0.  0.  0.  0.  9.  0.]\n",
      " [12.  0.  0.  0.  0.  0.]]\n"
     ]
    }
   ],
   "source": [
    "ref = tf.Variable(np.zeros(shape=[6, 6], dtype=np.float32))\n",
    "indices = tf.constant([[4, 4], [3, 0], [1, 5], [5, 0]], dtype=tf.int32)\n",
    "\n",
    "updates = tf.constant([9, 10, 11, 12], dtype=tf.float32)\n",
    "update = tf.scatter_nd_update(ref, indices, updates)\n",
    "\n",
    "with tf.Session() as sess:\n",
    "    sess.run(tf.global_variables_initializer())  # initialize variable\n",
    "    print(sess.run(update))"
   ]
  },
  {
   "cell_type": "markdown",
   "metadata": {},
   "source": [
    "#### tf.split"
   ]
  },
  {
   "cell_type": "code",
   "execution_count": 85,
   "metadata": {},
   "outputs": [
    {
     "name": "stdout",
     "output_type": "stream",
     "text": [
      "[[1 1 1]\n",
      " [2 2 2]]\n",
      " \n",
      "[[1 1]\n",
      " [2 2]]\n"
     ]
    }
   ],
   "source": [
    "arr_tensor = tf.constant([[1, 1, 1, 1, 1], [2, 2, 2, 2, 2]])\n",
    "\n",
    "r1, r2 = tf.split(arr_tensor, [3, 2], 1)\n",
    "\n",
    "with tf.Session() as sess:\n",
    "    print(sess.run(r1))\n",
    "    print(\" \")\n",
    "    print(sess.run(r2))"
   ]
  },
  {
   "cell_type": "markdown",
   "metadata": {},
   "source": [
    "#### tf update Varibale"
   ]
  },
  {
   "cell_type": "code",
   "execution_count": 1,
   "metadata": {},
   "outputs": [
    {
     "name": "stderr",
     "output_type": "stream",
     "text": [
      "/Users/jeremy.zhang/anaconda3/lib/python3.6/site-packages/h5py/__init__.py:36: FutureWarning: Conversion of the second argument of issubdtype from `float` to `np.floating` is deprecated. In future, it will be treated as `np.float64 == np.dtype(float).type`.\n",
      "  from ._conv import register_converters as _register_converters\n"
     ]
    },
    {
     "name": "stdout",
     "output_type": "stream",
     "text": [
      "5\n",
      "[  0. 333. 333. 333. 333.   0.]\n"
     ]
    }
   ],
   "source": [
    "n = 4\n",
    "\n",
    "def cond(i): return tf.less_equal(i, n)\n",
    "def body(i): \n",
    "    m = tf.get_variable(\"m\", shape=[6], initializer=tf.constant_initializer(0))\n",
    "    op = tf.scatter_update(m, i, 333)  # this is only an operation\n",
    "    \n",
    "    tf.get_variable_scope().reuse_variables()\n",
    "    with tf.control_dependencies([op]):\n",
    "        return tf.add(i, 1)\n",
    "\n",
    "r = tf.while_loop(cond, body, [1])\n",
    "\n",
    "with tf.Session() as sess:\n",
    "    sess.run(tf.global_variables_initializer())\n",
    "    print(sess.run(r))\n",
    "    \n",
    "    print(sess.run(tf.get_variable(\"m\")))"
   ]
  },
  {
   "cell_type": "code",
   "execution_count": 3,
   "metadata": {},
   "outputs": [
    {
     "name": "stdout",
     "output_type": "stream",
     "text": [
      "[0. 0. 0. 0. 0. 0.]\n",
      "t:0\n",
      "[0. 0. 0. 0. 0. 0.]\n",
      "t:0\n"
     ]
    }
   ],
   "source": [
    "t = tf.get_variable(\"t\", shape=[6], initializer=tf.constant_initializer(0))\n",
    "\n",
    "tf.get_variable_scope().reuse_variables()\n",
    "t2 = tf.get_variable(\"t\")\n",
    "\n",
    "with tf.Session() as sess:\n",
    "    sess.run(tf.global_variables_initializer())\n",
    "    print(sess.run(t))\n",
    "    print(t.name)\n",
    "    print(sess.run(t2))\n",
    "    print(t2.name)"
   ]
  },
  {
   "cell_type": "markdown",
   "metadata": {},
   "source": [
    "#### tf.shape\n",
    "- `tf.shape`\n",
    "tf.shape is used for dynamic shape. If your tensor's shape is changable, use it. An example: a input is an image with changable width and height, we want resize it to half of its size, then we can write something like:\n",
    "```new_height = tf.shape(image)[0] / 2```\n",
    "\n",
    "- `tensor.get_shape`\n",
    "tensor.get_shape is used for fixed shapes, which means the tensor's shape can be deduced in the graph."
   ]
  },
  {
   "cell_type": "code",
   "execution_count": 2,
   "metadata": {},
   "outputs": [
    {
     "name": "stdout",
     "output_type": "stream",
     "text": [
      "tf.shape: [2 2]\n",
      "get_shape: (2, 2)\n",
      "[[0. 0.]\n",
      " [0. 0.]]\n"
     ]
    }
   ],
   "source": [
    "m = tf.constant([[1, 2], [1, 1]])\n",
    "var = tf.get_variable(\"var\", shape=m.get_shape().as_list(), initializer=tf.constant_initializer(0))\n",
    "\n",
    "with tf.Session() as sess:\n",
    "    sess.run(tf.global_variables_initializer())\n",
    "    print(\"tf.shape:\", sess.run(tf.shape(m)))\n",
    "    print(\"get_shape:\", m.get_shape())\n",
    "    print(sess.run(var))"
   ]
  },
  {
   "cell_type": "markdown",
   "metadata": {},
   "source": [
    "#### tf.stack"
   ]
  },
  {
   "cell_type": "code",
   "execution_count": 9,
   "metadata": {},
   "outputs": [
    {
     "name": "stdout",
     "output_type": "stream",
     "text": [
      "[100  80   2]\n"
     ]
    }
   ],
   "source": [
    "m = tf.zeros(shape=[100, 80])\n",
    "mm = tf.stack([m, m], axis=2)\n",
    "\n",
    "with tf.Session() as sess:\n",
    "    print(sess.run(tf.shape(mm)))"
   ]
  },
  {
   "cell_type": "markdown",
   "metadata": {},
   "source": [
    "#### tf.slice"
   ]
  },
  {
   "cell_type": "code",
   "execution_count": 16,
   "metadata": {},
   "outputs": [
    {
     "name": "stdout",
     "output_type": "stream",
     "text": [
      "[ 1 42 38  1]\n",
      "[15 42 38  2]\n",
      "[15 42 38  1]\n",
      "[15 42 38  1]\n"
     ]
    }
   ],
   "source": [
    "m = tf.zeros(shape=[15, 42, 38, 5])\n",
    "\n",
    "slice_m = tf.slice(m, [0, 0, 0, 0], [1, -1, -1, 1])\n",
    "slice_m2 = tf.slice(m, [0, 0, 0, 1], [-1, -1, -1, 2])\n",
    "\n",
    "split_m2_1, split_m2_2 = tf.split(slice_m2, [1, 1], 3)\n",
    "\n",
    "with tf.Session() as sess:\n",
    "    print(sess.run(tf.shape(slice_m)))\n",
    "    print(sess.run(tf.shape(slice_m2)))\n",
    "    print(sess.run(tf.shape(split_m2_1)))\n",
    "    print(sess.run(tf.shape(split_m2_2)))"
   ]
  },
  {
   "cell_type": "markdown",
   "metadata": {},
   "source": [
    "#### tf.conv2d"
   ]
  },
  {
   "cell_type": "code",
   "execution_count": 22,
   "metadata": {},
   "outputs": [
    {
     "name": "stdout",
     "output_type": "stream",
     "text": [
      "slice shape [ 5 42 38  1]\n",
      "slice transpose shape [ 1 42 38  5]\n",
      "filter shape [1 1 5 1]\n",
      "slice smoothed shape [ 1 42 38  1]\n"
     ]
    }
   ],
   "source": [
    "m = tf.zeros(shape=[5, 42, 38, 3])\n",
    "slice_m = tf.slice(m, [0, 0, 0, 1], [-1, -1, -1, 1])\n",
    "\n",
    "slice_m_transpose = tf.transpose(slice_m, [3, 1, 2, 0])\n",
    "\n",
    "filter_m = tf.random.uniform(shape=[1, 1, 5, 1])\n",
    "\n",
    "slice_smooth = tf.nn.conv2d(slice_m_transpose, filter_m, [1, 1, 1, 1], \"SAME\")\n",
    "\n",
    "with tf.Session() as sess:\n",
    "    print(\"slice shape\", sess.run(tf.shape(slice_m)))\n",
    "    print(\"slice transpose shape\", sess.run(tf.shape(slice_m_transpose)))\n",
    "    print(\"filter shape\", sess.run(tf.shape(filter_m)))\n",
    "    print(\"slice smoothed shape\", sess.run(tf.shape(slice_smooth)))\n"
   ]
  },
  {
   "cell_type": "markdown",
   "metadata": {},
   "source": [
    "#### tf.math.segment*"
   ]
  },
  {
   "cell_type": "code",
   "execution_count": 45,
   "metadata": {},
   "outputs": [
    {
     "name": "stdout",
     "output_type": "stream",
     "text": [
      "[0 0 6]\n"
     ]
    }
   ],
   "source": [
    "segments = tf.constant([1, 2, 2, 2, 2])  # must in increasing order\n",
    "m = tf.constant([0, 1, 2, 0, 3])\n",
    "\n",
    "res = tf.math.segment_sum(data=m, segment_ids=segments)\n",
    "\n",
    "with tf.Session() as sess:\n",
    "    print(sess.run(res))"
   ]
  },
  {
   "cell_type": "markdown",
   "metadata": {},
   "source": [
    "#### tf.math.unsorted_segment_sum"
   ]
  },
  {
   "cell_type": "code",
   "execution_count": 48,
   "metadata": {},
   "outputs": [
    {
     "name": "stdout",
     "output_type": "stream",
     "text": [
      "[0 4 3]\n"
     ]
    }
   ],
   "source": [
    "segments = tf.constant([0, 1, 2, 2, 1, 2]) \n",
    "m = tf.constant([0, 1, 2, 0, 3, 1])\n",
    "\n",
    "res = tf.math.unsorted_segment_sum(data=m, segment_ids=segments, num_segments=3)\n",
    "\n",
    "with tf.Session() as sess:\n",
    "    print(sess.run(res))"
   ]
  },
  {
   "cell_type": "markdown",
   "metadata": {},
   "source": [
    "#### tf.get_variable"
   ]
  },
  {
   "cell_type": "code",
   "execution_count": 72,
   "metadata": {},
   "outputs": [
    {
     "name": "stdout",
     "output_type": "stream",
     "text": [
      "[[ 0.70206904 -0.68499374  0.40125299]\n",
      " [-0.8797443   0.17862082  0.16595149]\n",
      " [-0.7161479   0.49256063  0.92273355]]\n"
     ]
    }
   ],
   "source": [
    "m = tf.placeholder(shape=[3, 3], dtype=tf.int32)\n",
    "with tf.variable_scope(\"foo2\", reuse=tf.AUTO_REUSE):\n",
    "    v = tf.get_variable(\"v\", shape=m.shape, validate_shape=False)\n",
    "    \n",
    "with tf.Session() as sess:\n",
    "    sess.run(tf.global_variables_initializer())\n",
    "    print(sess.run(v))"
   ]
  },
  {
   "cell_type": "code",
   "execution_count": null,
   "metadata": {},
   "outputs": [],
   "source": []
  },
  {
   "cell_type": "code",
   "execution_count": null,
   "metadata": {},
   "outputs": [],
   "source": []
  },
  {
   "cell_type": "code",
   "execution_count": null,
   "metadata": {},
   "outputs": [],
   "source": []
  }
 ],
 "metadata": {
  "kernelspec": {
   "display_name": "Python 3",
   "language": "python",
   "name": "python3"
  },
  "language_info": {
   "codemirror_mode": {
    "name": "ipython",
    "version": 3
   },
   "file_extension": ".py",
   "mimetype": "text/x-python",
   "name": "python",
   "nbconvert_exporter": "python",
   "pygments_lexer": "ipython3",
   "version": "3.6.5"
  }
 },
 "nbformat": 4,
 "nbformat_minor": 2
}
